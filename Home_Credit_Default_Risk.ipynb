{
  "nbformat": 4,
  "nbformat_minor": 0,
  "metadata": {
    "colab": {
      "provenance": [],
      "authorship_tag": "ABX9TyPVezcdCaP2EbbpqCI29Ura",
      "include_colab_link": true
    },
    "kernelspec": {
      "name": "python3",
      "display_name": "Python 3"
    },
    "language_info": {
      "name": "python"
    }
  },
  "cells": [
    {
      "cell_type": "markdown",
      "metadata": {
        "id": "view-in-github",
        "colab_type": "text"
      },
      "source": [
        "<a href=\"https://colab.research.google.com/github/harirm85/Hari_ML_workshop/blob/main/Home_Credit_Default_Risk.ipynb\" target=\"_parent\"><img src=\"https://colab.research.google.com/assets/colab-badge.svg\" alt=\"Open In Colab\"/></a>"
      ]
    },
    {
      "cell_type": "markdown",
      "source": [
        "# Mount drive and connect to Kaggle"
      ],
      "metadata": {
        "id": "anXRteGtQJKj"
      }
    },
    {
      "cell_type": "code",
      "execution_count": 1,
      "metadata": {
        "colab": {
          "base_uri": "https://localhost:8080/"
        },
        "id": "34baa0MQQH92",
        "outputId": "82b17f19-9424-4958-d44d-bb2a7f0afaa6"
      },
      "outputs": [
        {
          "output_type": "stream",
          "name": "stdout",
          "text": [
            "Mounted at /content/drive\n"
          ]
        }
      ],
      "source": [
        "# Connect to Google Drive\n",
        "from google.colab import drive\n",
        "drive.mount('/content/drive')"
      ]
    },
    {
      "cell_type": "code",
      "source": [
        "# Copy the Jason file and set security\n",
        "!mkdir -p ~/.kaggle\n",
        "!cp '/content/drive/MyDrive/Kaggle/kaggle.json' ~/.kaggle/kaggle.json\n",
        "!chmod 600 ~/.kaggle/kaggle.json"
      ],
      "metadata": {
        "id": "q8dcwPbiReEf"
      },
      "execution_count": 2,
      "outputs": []
    },
    {
      "cell_type": "code",
      "source": [
        "# # Upload Jason file from system manually \n",
        "# from google.colab import files\n",
        "# files.upload()\n",
        "# # Copy the Jason file and set security\n",
        "# !mkdir -p ~/.kaggle\n",
        "# !cp kaggle.json ~/.kaggle/\n",
        "# !chmod 600 ~/.kaggle/kaggle.json"
      ],
      "metadata": {
        "id": "o_gBD0oJYuJG"
      },
      "execution_count": null,
      "outputs": []
    },
    {
      "cell_type": "code",
      "source": [
        "#Download data\n",
        "!kaggle competitions download -c home-credit-default-risk"
      ],
      "metadata": {
        "colab": {
          "base_uri": "https://localhost:8080/"
        },
        "id": "j4G2GdluScNw",
        "outputId": "c83b657d-3958-4ec5-b5bb-f0c66b3531f3"
      },
      "execution_count": 3,
      "outputs": [
        {
          "output_type": "stream",
          "name": "stdout",
          "text": [
            "Downloading home-credit-default-risk.zip to /content\n",
            "100% 688M/688M [00:08<00:00, 145MB/s]\n",
            "100% 688M/688M [00:08<00:00, 84.5MB/s]\n"
          ]
        }
      ]
    },
    {
      "cell_type": "code",
      "source": [
        "import zipfile\n",
        "\n",
        "# Specify the path to the downloaded zip file\n",
        "zip_path = \"/content/home-credit-default-risk.zip\"\n",
        "\n",
        "# Specify the directory to extract the files to\n",
        "extract_path = \"/content/home-credit-default-risk\"\n",
        "\n",
        "# Extract the zip file\n",
        "with zipfile.ZipFile(zip_path, 'r') as zip_ref:\n",
        "    zip_ref.extractall(extract_path)"
      ],
      "metadata": {
        "id": "GqZwexj_Tjkb"
      },
      "execution_count": 4,
      "outputs": []
    },
    {
      "cell_type": "code",
      "source": [
        "# import shutil\n",
        "\n",
        "# # Specify the path to the directory where you want to save the dataset\n",
        "# save_path = \"/content/drive/MyDrive/Kaggle/home-credit-default-risk\"\n",
        "\n",
        "# # Create a copy of the extracted dataset in the save path\n",
        "# shutil.copytree(extract_path, save_path)"
      ],
      "metadata": {
        "id": "5CpLQlz2bKlU"
      },
      "execution_count": null,
      "outputs": []
    },
    {
      "cell_type": "markdown",
      "source": [
        "# Import libraries"
      ],
      "metadata": {
        "id": "lPVhIWykhQCe"
      }
    },
    {
      "cell_type": "code",
      "source": [
        "#!pip install xgboost"
      ],
      "metadata": {
        "colab": {
          "base_uri": "https://localhost:8080/"
        },
        "id": "SqpxK9iMa86A",
        "outputId": "cb79e250-06c9-4823-fb1b-baef5ef634bd"
      },
      "execution_count": 16,
      "outputs": [
        {
          "output_type": "stream",
          "name": "stdout",
          "text": [
            "Looking in indexes: https://pypi.org/simple, https://us-python.pkg.dev/colab-wheels/public/simple/\n",
            "Requirement already satisfied: xgboost in /usr/local/lib/python3.10/dist-packages (1.7.5)\n",
            "Requirement already satisfied: numpy in /usr/local/lib/python3.10/dist-packages (from xgboost) (1.22.4)\n",
            "Requirement already satisfied: scipy in /usr/local/lib/python3.10/dist-packages (from xgboost) (1.10.1)\n"
          ]
        }
      ]
    },
    {
      "cell_type": "code",
      "source": [
        "import numpy as np\n",
        "import pandas as pd\n",
        "import matplotlib.pyplot as plt\n",
        "import seaborn as sns\n",
        "\n",
        "pd.options.display.float_format = '{:,.2f}'.format\n"
      ],
      "metadata": {
        "id": "UDpqZjYIFMkZ"
      },
      "execution_count": 7,
      "outputs": []
    },
    {
      "cell_type": "markdown",
      "source": [
        "# Verify data"
      ],
      "metadata": {
        "id": "5dhI881Fahfx"
      }
    },
    {
      "cell_type": "code",
      "source": [
        "app_data = pd.read_csv('/content/home-credit-default-risk/application_train.csv')\n",
        "print(app_data.columns)"
      ],
      "metadata": {
        "colab": {
          "base_uri": "https://localhost:8080/"
        },
        "id": "0WVxSwXIGo8c",
        "outputId": "81042643-2666-4e5c-c408-4f54525aa5a8"
      },
      "execution_count": 12,
      "outputs": [
        {
          "output_type": "stream",
          "name": "stdout",
          "text": [
            "Index(['SK_ID_CURR', 'TARGET', 'NAME_CONTRACT_TYPE', 'CODE_GENDER',\n",
            "       'FLAG_OWN_CAR', 'FLAG_OWN_REALTY', 'CNT_CHILDREN', 'AMT_INCOME_TOTAL',\n",
            "       'AMT_CREDIT', 'AMT_ANNUITY',\n",
            "       ...\n",
            "       'FLAG_DOCUMENT_18', 'FLAG_DOCUMENT_19', 'FLAG_DOCUMENT_20',\n",
            "       'FLAG_DOCUMENT_21', 'AMT_REQ_CREDIT_BUREAU_HOUR',\n",
            "       'AMT_REQ_CREDIT_BUREAU_DAY', 'AMT_REQ_CREDIT_BUREAU_WEEK',\n",
            "       'AMT_REQ_CREDIT_BUREAU_MON', 'AMT_REQ_CREDIT_BUREAU_QRT',\n",
            "       'AMT_REQ_CREDIT_BUREAU_YEAR'],\n",
            "      dtype='object', length=122)\n"
          ]
        }
      ]
    },
    {
      "cell_type": "code",
      "source": [
        "dtypes= {'NAME_CONTRACT_TYPE': 'category' ,'CODE_GENDER': 'category','FLAG_OWN_CAR': 'category','FLAG_OWN_REALTY': 'category'\n",
        "  ,'NAME_TYPE_SUITE': 'category','NAME_INCOME_TYPE': 'category','NAME_EDUCATION_TYPE': 'category','NAME_FAMILY_STATUS': 'category'\n",
        "  ,'NAME_HOUSING_TYPE': 'category','FLAG_MOBIL': 'category','FLAG_EMP_PHONE': 'category','FLAG_WORK_PHONE': 'category'\n",
        "  ,'FLAG_CONT_MOBILE': 'category','FLAG_PHONE': 'category','FLAG_EMAIL': 'category','OCCUPATION_TYPE': 'category'\n",
        "  ,'CNT_FAM_MEMBERS': 'category','REGION_RATING_CLIENT': 'category','REGION_RATING_CLIENT_W_CITY': 'category'  \n",
        "  ,'WEEKDAY_APPR_PROCESS_START': 'category','HOUR_APPR_PROCESS_START': 'category','REG_REGION_NOT_LIVE_REGION': 'category'\n",
        "  ,'REG_REGION_NOT_WORK_REGION': 'category','LIVE_REGION_NOT_WORK_REGION': 'category','REG_CITY_NOT_LIVE_CITY': 'category'\n",
        "  ,'REG_CITY_NOT_WORK_CITY': 'category','LIVE_CITY_NOT_WORK_CITY': 'category','ORGANIZATION_TYPE': 'category'\n",
        "  ,'FONDKAPREMONT_MODE': 'category','HOUSETYPE_MODE': 'category','WALLSMATERIAL_MODE': 'category', 'EMERGENCYSTATE_MODE': 'category'\n",
        "  ,'FLAG_DOCUMENT_2': 'category','FLAG_DOCUMENT_3': 'category','FLAG_DOCUMENT_4': 'category', 'FLAG_DOCUMENT_5': 'category'\n",
        "  ,'FLAG_DOCUMENT_6': 'category','FLAG_DOCUMENT_7': 'category','FLAG_DOCUMENT_8': 'category', 'FLAG_DOCUMENT_9': 'category'\n",
        "  ,'FLAG_DOCUMENT_10': 'category','FLAG_DOCUMENT_11': 'category','FLAG_DOCUMENT_12': 'category', 'FLAG_DOCUMENT_13': 'category'\n",
        "  ,'FLAG_DOCUMENT_14': 'category','FLAG_DOCUMENT_15': 'category','FLAG_DOCUMENT_16': 'category', 'FLAG_DOCUMENT_17': 'category'\n",
        "  ,'FLAG_DOCUMENT_18': 'category','FLAG_DOCUMENT_19': 'category','FLAG_DOCUMENT_20': 'category', 'FLAG_DOCUMENT_21': 'category'\n",
        " }\n",
        "\n",
        "app_data = app_data.astype(dtypes)"
      ],
      "metadata": {
        "id": "vPsg8qLthy2E"
      },
      "execution_count": 31,
      "outputs": []
    },
    {
      "cell_type": "code",
      "source": [
        "app_data.info(verbose=True, show_counts=True)"
      ],
      "metadata": {
        "colab": {
          "base_uri": "https://localhost:8080/"
        },
        "id": "f-NyrwcQKpID",
        "outputId": "e1c04387-8462-47b2-f864-c6633efa8956"
      },
      "execution_count": 32,
      "outputs": [
        {
          "output_type": "stream",
          "name": "stdout",
          "text": [
            "<class 'pandas.core.frame.DataFrame'>\n",
            "RangeIndex: 307511 entries, 0 to 307510\n",
            "Data columns (total 122 columns):\n",
            " #    Column                        Non-Null Count   Dtype   \n",
            "---   ------                        --------------   -----   \n",
            " 0    SK_ID_CURR                    307511 non-null  int64   \n",
            " 1    TARGET                        307511 non-null  int64   \n",
            " 2    NAME_CONTRACT_TYPE            307511 non-null  category\n",
            " 3    CODE_GENDER                   307511 non-null  category\n",
            " 4    FLAG_OWN_CAR                  307511 non-null  category\n",
            " 5    FLAG_OWN_REALTY               307511 non-null  category\n",
            " 6    CNT_CHILDREN                  307511 non-null  int64   \n",
            " 7    AMT_INCOME_TOTAL              307511 non-null  float64 \n",
            " 8    AMT_CREDIT                    307511 non-null  float64 \n",
            " 9    AMT_ANNUITY                   307499 non-null  float64 \n",
            " 10   AMT_GOODS_PRICE               307233 non-null  float64 \n",
            " 11   NAME_TYPE_SUITE               306219 non-null  category\n",
            " 12   NAME_INCOME_TYPE              307511 non-null  category\n",
            " 13   NAME_EDUCATION_TYPE           307511 non-null  category\n",
            " 14   NAME_FAMILY_STATUS            307511 non-null  category\n",
            " 15   NAME_HOUSING_TYPE             307511 non-null  category\n",
            " 16   REGION_POPULATION_RELATIVE    307511 non-null  float64 \n",
            " 17   DAYS_BIRTH                    307511 non-null  int64   \n",
            " 18   DAYS_EMPLOYED                 307511 non-null  int64   \n",
            " 19   DAYS_REGISTRATION             307511 non-null  float64 \n",
            " 20   DAYS_ID_PUBLISH               307511 non-null  int64   \n",
            " 21   OWN_CAR_AGE                   104582 non-null  float64 \n",
            " 22   FLAG_MOBIL                    307511 non-null  category\n",
            " 23   FLAG_EMP_PHONE                307511 non-null  category\n",
            " 24   FLAG_WORK_PHONE               307511 non-null  category\n",
            " 25   FLAG_CONT_MOBILE              307511 non-null  category\n",
            " 26   FLAG_PHONE                    307511 non-null  category\n",
            " 27   FLAG_EMAIL                    307511 non-null  category\n",
            " 28   OCCUPATION_TYPE               211120 non-null  category\n",
            " 29   CNT_FAM_MEMBERS               307509 non-null  category\n",
            " 30   REGION_RATING_CLIENT          307511 non-null  category\n",
            " 31   REGION_RATING_CLIENT_W_CITY   307511 non-null  category\n",
            " 32   WEEKDAY_APPR_PROCESS_START    307511 non-null  category\n",
            " 33   HOUR_APPR_PROCESS_START       307511 non-null  category\n",
            " 34   REG_REGION_NOT_LIVE_REGION    307511 non-null  category\n",
            " 35   REG_REGION_NOT_WORK_REGION    307511 non-null  category\n",
            " 36   LIVE_REGION_NOT_WORK_REGION   307511 non-null  category\n",
            " 37   REG_CITY_NOT_LIVE_CITY        307511 non-null  category\n",
            " 38   REG_CITY_NOT_WORK_CITY        307511 non-null  category\n",
            " 39   LIVE_CITY_NOT_WORK_CITY       307511 non-null  category\n",
            " 40   ORGANIZATION_TYPE             307511 non-null  category\n",
            " 41   EXT_SOURCE_1                  134133 non-null  float64 \n",
            " 42   EXT_SOURCE_2                  306851 non-null  float64 \n",
            " 43   EXT_SOURCE_3                  246546 non-null  float64 \n",
            " 44   APARTMENTS_AVG                151450 non-null  float64 \n",
            " 45   BASEMENTAREA_AVG              127568 non-null  float64 \n",
            " 46   YEARS_BEGINEXPLUATATION_AVG   157504 non-null  float64 \n",
            " 47   YEARS_BUILD_AVG               103023 non-null  float64 \n",
            " 48   COMMONAREA_AVG                92646 non-null   float64 \n",
            " 49   ELEVATORS_AVG                 143620 non-null  float64 \n",
            " 50   ENTRANCES_AVG                 152683 non-null  float64 \n",
            " 51   FLOORSMAX_AVG                 154491 non-null  float64 \n",
            " 52   FLOORSMIN_AVG                 98869 non-null   float64 \n",
            " 53   LANDAREA_AVG                  124921 non-null  float64 \n",
            " 54   LIVINGAPARTMENTS_AVG          97312 non-null   float64 \n",
            " 55   LIVINGAREA_AVG                153161 non-null  float64 \n",
            " 56   NONLIVINGAPARTMENTS_AVG       93997 non-null   float64 \n",
            " 57   NONLIVINGAREA_AVG             137829 non-null  float64 \n",
            " 58   APARTMENTS_MODE               151450 non-null  float64 \n",
            " 59   BASEMENTAREA_MODE             127568 non-null  float64 \n",
            " 60   YEARS_BEGINEXPLUATATION_MODE  157504 non-null  float64 \n",
            " 61   YEARS_BUILD_MODE              103023 non-null  float64 \n",
            " 62   COMMONAREA_MODE               92646 non-null   float64 \n",
            " 63   ELEVATORS_MODE                143620 non-null  float64 \n",
            " 64   ENTRANCES_MODE                152683 non-null  float64 \n",
            " 65   FLOORSMAX_MODE                154491 non-null  float64 \n",
            " 66   FLOORSMIN_MODE                98869 non-null   float64 \n",
            " 67   LANDAREA_MODE                 124921 non-null  float64 \n",
            " 68   LIVINGAPARTMENTS_MODE         97312 non-null   float64 \n",
            " 69   LIVINGAREA_MODE               153161 non-null  float64 \n",
            " 70   NONLIVINGAPARTMENTS_MODE      93997 non-null   float64 \n",
            " 71   NONLIVINGAREA_MODE            137829 non-null  float64 \n",
            " 72   APARTMENTS_MEDI               151450 non-null  float64 \n",
            " 73   BASEMENTAREA_MEDI             127568 non-null  float64 \n",
            " 74   YEARS_BEGINEXPLUATATION_MEDI  157504 non-null  float64 \n",
            " 75   YEARS_BUILD_MEDI              103023 non-null  float64 \n",
            " 76   COMMONAREA_MEDI               92646 non-null   float64 \n",
            " 77   ELEVATORS_MEDI                143620 non-null  float64 \n",
            " 78   ENTRANCES_MEDI                152683 non-null  float64 \n",
            " 79   FLOORSMAX_MEDI                154491 non-null  float64 \n",
            " 80   FLOORSMIN_MEDI                98869 non-null   float64 \n",
            " 81   LANDAREA_MEDI                 124921 non-null  float64 \n",
            " 82   LIVINGAPARTMENTS_MEDI         97312 non-null   float64 \n",
            " 83   LIVINGAREA_MEDI               153161 non-null  float64 \n",
            " 84   NONLIVINGAPARTMENTS_MEDI      93997 non-null   float64 \n",
            " 85   NONLIVINGAREA_MEDI            137829 non-null  float64 \n",
            " 86   FONDKAPREMONT_MODE            97216 non-null   category\n",
            " 87   HOUSETYPE_MODE                153214 non-null  category\n",
            " 88   TOTALAREA_MODE                159080 non-null  float64 \n",
            " 89   WALLSMATERIAL_MODE            151170 non-null  category\n",
            " 90   EMERGENCYSTATE_MODE           161756 non-null  category\n",
            " 91   OBS_30_CNT_SOCIAL_CIRCLE      306490 non-null  float64 \n",
            " 92   DEF_30_CNT_SOCIAL_CIRCLE      306490 non-null  float64 \n",
            " 93   OBS_60_CNT_SOCIAL_CIRCLE      306490 non-null  float64 \n",
            " 94   DEF_60_CNT_SOCIAL_CIRCLE      306490 non-null  float64 \n",
            " 95   DAYS_LAST_PHONE_CHANGE        307510 non-null  float64 \n",
            " 96   FLAG_DOCUMENT_2               307511 non-null  category\n",
            " 97   FLAG_DOCUMENT_3               307511 non-null  category\n",
            " 98   FLAG_DOCUMENT_4               307511 non-null  category\n",
            " 99   FLAG_DOCUMENT_5               307511 non-null  category\n",
            " 100  FLAG_DOCUMENT_6               307511 non-null  category\n",
            " 101  FLAG_DOCUMENT_7               307511 non-null  category\n",
            " 102  FLAG_DOCUMENT_8               307511 non-null  category\n",
            " 103  FLAG_DOCUMENT_9               307511 non-null  category\n",
            " 104  FLAG_DOCUMENT_10              307511 non-null  category\n",
            " 105  FLAG_DOCUMENT_11              307511 non-null  category\n",
            " 106  FLAG_DOCUMENT_12              307511 non-null  category\n",
            " 107  FLAG_DOCUMENT_13              307511 non-null  category\n",
            " 108  FLAG_DOCUMENT_14              307511 non-null  category\n",
            " 109  FLAG_DOCUMENT_15              307511 non-null  category\n",
            " 110  FLAG_DOCUMENT_16              307511 non-null  category\n",
            " 111  FLAG_DOCUMENT_17              307511 non-null  category\n",
            " 112  FLAG_DOCUMENT_18              307511 non-null  category\n",
            " 113  FLAG_DOCUMENT_19              307511 non-null  category\n",
            " 114  FLAG_DOCUMENT_20              307511 non-null  category\n",
            " 115  FLAG_DOCUMENT_21              307511 non-null  category\n",
            " 116  AMT_REQ_CREDIT_BUREAU_HOUR    265992 non-null  float64 \n",
            " 117  AMT_REQ_CREDIT_BUREAU_DAY     265992 non-null  float64 \n",
            " 118  AMT_REQ_CREDIT_BUREAU_WEEK    265992 non-null  float64 \n",
            " 119  AMT_REQ_CREDIT_BUREAU_MON     265992 non-null  float64 \n",
            " 120  AMT_REQ_CREDIT_BUREAU_QRT     265992 non-null  float64 \n",
            " 121  AMT_REQ_CREDIT_BUREAU_YEAR    265992 non-null  float64 \n",
            "dtypes: category(52), float64(64), int64(6)\n",
            "memory usage: 179.5 MB\n"
          ]
        }
      ]
    },
    {
      "cell_type": "markdown",
      "source": [
        "#Shape Data"
      ],
      "metadata": {
        "id": "266tGGOEJZj8"
      }
    },
    {
      "cell_type": "code",
      "source": [
        "label_col = 'TARGET'\n",
        "\n",
        "feature_columns = app_data.columns\n",
        "\n",
        "feature_columns = feature_columns.drop (['SK_ID_CURR', 'TARGET']) \n",
        "print (feature_columns)"
      ],
      "metadata": {
        "colab": {
          "base_uri": "https://localhost:8080/"
        },
        "id": "jUSUGCHnJc2S",
        "outputId": "a14384d4-3c58-4aab-ea80-312216e0b829"
      },
      "execution_count": 33,
      "outputs": [
        {
          "output_type": "stream",
          "name": "stdout",
          "text": [
            "Index(['NAME_CONTRACT_TYPE', 'CODE_GENDER', 'FLAG_OWN_CAR', 'FLAG_OWN_REALTY',\n",
            "       'CNT_CHILDREN', 'AMT_INCOME_TOTAL', 'AMT_CREDIT', 'AMT_ANNUITY',\n",
            "       'AMT_GOODS_PRICE', 'NAME_TYPE_SUITE',\n",
            "       ...\n",
            "       'FLAG_DOCUMENT_18', 'FLAG_DOCUMENT_19', 'FLAG_DOCUMENT_20',\n",
            "       'FLAG_DOCUMENT_21', 'AMT_REQ_CREDIT_BUREAU_HOUR',\n",
            "       'AMT_REQ_CREDIT_BUREAU_DAY', 'AMT_REQ_CREDIT_BUREAU_WEEK',\n",
            "       'AMT_REQ_CREDIT_BUREAU_MON', 'AMT_REQ_CREDIT_BUREAU_QRT',\n",
            "       'AMT_REQ_CREDIT_BUREAU_YEAR'],\n",
            "      dtype='object', length=120)\n"
          ]
        }
      ]
    },
    {
      "cell_type": "code",
      "source": [
        "X = app_data[feature_columns]\n",
        "y = app_data[[label_col]]\n",
        "\n",
        "print (X.shape)\n",
        "print (y.shape)"
      ],
      "metadata": {
        "colab": {
          "base_uri": "https://localhost:8080/"
        },
        "id": "HqHIjLtdMTkW",
        "outputId": "e86c91cd-8102-4408-c595-b25bd001e9b5"
      },
      "execution_count": 34,
      "outputs": [
        {
          "output_type": "stream",
          "name": "stdout",
          "text": [
            "(307511, 120)\n",
            "(307511, 1)\n"
          ]
        }
      ]
    },
    {
      "cell_type": "code",
      "source": [
        "import xgboost as xgb\n",
        "from sklearn.model_selection import train_test_split\n",
        "\n",
        "\n",
        "X_train, X_test, y_train, y_test = train_test_split(X, y, test_size=.2)\n",
        "\n",
        "bst = xgb.XGBClassifier(tree_method=\"hist\",enable_categorical=True)\n",
        "bst.fit(X_train, y_train)\n"
      ],
      "metadata": {
        "colab": {
          "base_uri": "https://localhost:8080/",
          "height": 248
        },
        "id": "S2FItZ9XZIqw",
        "outputId": "96499f76-64ed-476e-f575-20922b4b288f"
      },
      "execution_count": 41,
      "outputs": [
        {
          "output_type": "execute_result",
          "data": {
            "text/plain": [
              "XGBClassifier(base_score=None, booster=None, callbacks=None,\n",
              "              colsample_bylevel=None, colsample_bynode=None,\n",
              "              colsample_bytree=None, early_stopping_rounds=None,\n",
              "              enable_categorical=True, eval_metric=None, feature_types=None,\n",
              "              gamma=None, gpu_id=None, grow_policy=None, importance_type=None,\n",
              "              interaction_constraints=None, learning_rate=None, max_bin=None,\n",
              "              max_cat_threshold=None, max_cat_to_onehot=None,\n",
              "              max_delta_step=None, max_depth=None, max_leaves=None,\n",
              "              min_child_weight=None, missing=nan, monotone_constraints=None,\n",
              "              n_estimators=100, n_jobs=None, num_parallel_tree=None,\n",
              "              predictor=None, random_state=None, ...)"
            ],
            "text/html": [
              "<style>#sk-container-id-1 {color: black;background-color: white;}#sk-container-id-1 pre{padding: 0;}#sk-container-id-1 div.sk-toggleable {background-color: white;}#sk-container-id-1 label.sk-toggleable__label {cursor: pointer;display: block;width: 100%;margin-bottom: 0;padding: 0.3em;box-sizing: border-box;text-align: center;}#sk-container-id-1 label.sk-toggleable__label-arrow:before {content: \"▸\";float: left;margin-right: 0.25em;color: #696969;}#sk-container-id-1 label.sk-toggleable__label-arrow:hover:before {color: black;}#sk-container-id-1 div.sk-estimator:hover label.sk-toggleable__label-arrow:before {color: black;}#sk-container-id-1 div.sk-toggleable__content {max-height: 0;max-width: 0;overflow: hidden;text-align: left;background-color: #f0f8ff;}#sk-container-id-1 div.sk-toggleable__content pre {margin: 0.2em;color: black;border-radius: 0.25em;background-color: #f0f8ff;}#sk-container-id-1 input.sk-toggleable__control:checked~div.sk-toggleable__content {max-height: 200px;max-width: 100%;overflow: auto;}#sk-container-id-1 input.sk-toggleable__control:checked~label.sk-toggleable__label-arrow:before {content: \"▾\";}#sk-container-id-1 div.sk-estimator input.sk-toggleable__control:checked~label.sk-toggleable__label {background-color: #d4ebff;}#sk-container-id-1 div.sk-label input.sk-toggleable__control:checked~label.sk-toggleable__label {background-color: #d4ebff;}#sk-container-id-1 input.sk-hidden--visually {border: 0;clip: rect(1px 1px 1px 1px);clip: rect(1px, 1px, 1px, 1px);height: 1px;margin: -1px;overflow: hidden;padding: 0;position: absolute;width: 1px;}#sk-container-id-1 div.sk-estimator {font-family: monospace;background-color: #f0f8ff;border: 1px dotted black;border-radius: 0.25em;box-sizing: border-box;margin-bottom: 0.5em;}#sk-container-id-1 div.sk-estimator:hover {background-color: #d4ebff;}#sk-container-id-1 div.sk-parallel-item::after {content: \"\";width: 100%;border-bottom: 1px solid gray;flex-grow: 1;}#sk-container-id-1 div.sk-label:hover label.sk-toggleable__label {background-color: #d4ebff;}#sk-container-id-1 div.sk-serial::before {content: \"\";position: absolute;border-left: 1px solid gray;box-sizing: border-box;top: 0;bottom: 0;left: 50%;z-index: 0;}#sk-container-id-1 div.sk-serial {display: flex;flex-direction: column;align-items: center;background-color: white;padding-right: 0.2em;padding-left: 0.2em;position: relative;}#sk-container-id-1 div.sk-item {position: relative;z-index: 1;}#sk-container-id-1 div.sk-parallel {display: flex;align-items: stretch;justify-content: center;background-color: white;position: relative;}#sk-container-id-1 div.sk-item::before, #sk-container-id-1 div.sk-parallel-item::before {content: \"\";position: absolute;border-left: 1px solid gray;box-sizing: border-box;top: 0;bottom: 0;left: 50%;z-index: -1;}#sk-container-id-1 div.sk-parallel-item {display: flex;flex-direction: column;z-index: 1;position: relative;background-color: white;}#sk-container-id-1 div.sk-parallel-item:first-child::after {align-self: flex-end;width: 50%;}#sk-container-id-1 div.sk-parallel-item:last-child::after {align-self: flex-start;width: 50%;}#sk-container-id-1 div.sk-parallel-item:only-child::after {width: 0;}#sk-container-id-1 div.sk-dashed-wrapped {border: 1px dashed gray;margin: 0 0.4em 0.5em 0.4em;box-sizing: border-box;padding-bottom: 0.4em;background-color: white;}#sk-container-id-1 div.sk-label label {font-family: monospace;font-weight: bold;display: inline-block;line-height: 1.2em;}#sk-container-id-1 div.sk-label-container {text-align: center;}#sk-container-id-1 div.sk-container {/* jupyter's `normalize.less` sets `[hidden] { display: none; }` but bootstrap.min.css set `[hidden] { display: none !important; }` so we also need the `!important` here to be able to override the default hidden behavior on the sphinx rendered scikit-learn.org. See: https://github.com/scikit-learn/scikit-learn/issues/21755 */display: inline-block !important;position: relative;}#sk-container-id-1 div.sk-text-repr-fallback {display: none;}</style><div id=\"sk-container-id-1\" class=\"sk-top-container\"><div class=\"sk-text-repr-fallback\"><pre>XGBClassifier(base_score=None, booster=None, callbacks=None,\n",
              "              colsample_bylevel=None, colsample_bynode=None,\n",
              "              colsample_bytree=None, early_stopping_rounds=None,\n",
              "              enable_categorical=True, eval_metric=None, feature_types=None,\n",
              "              gamma=None, gpu_id=None, grow_policy=None, importance_type=None,\n",
              "              interaction_constraints=None, learning_rate=None, max_bin=None,\n",
              "              max_cat_threshold=None, max_cat_to_onehot=None,\n",
              "              max_delta_step=None, max_depth=None, max_leaves=None,\n",
              "              min_child_weight=None, missing=nan, monotone_constraints=None,\n",
              "              n_estimators=100, n_jobs=None, num_parallel_tree=None,\n",
              "              predictor=None, random_state=None, ...)</pre><b>In a Jupyter environment, please rerun this cell to show the HTML representation or trust the notebook. <br />On GitHub, the HTML representation is unable to render, please try loading this page with nbviewer.org.</b></div><div class=\"sk-container\" hidden><div class=\"sk-item\"><div class=\"sk-estimator sk-toggleable\"><input class=\"sk-toggleable__control sk-hidden--visually\" id=\"sk-estimator-id-1\" type=\"checkbox\" checked><label for=\"sk-estimator-id-1\" class=\"sk-toggleable__label sk-toggleable__label-arrow\">XGBClassifier</label><div class=\"sk-toggleable__content\"><pre>XGBClassifier(base_score=None, booster=None, callbacks=None,\n",
              "              colsample_bylevel=None, colsample_bynode=None,\n",
              "              colsample_bytree=None, early_stopping_rounds=None,\n",
              "              enable_categorical=True, eval_metric=None, feature_types=None,\n",
              "              gamma=None, gpu_id=None, grow_policy=None, importance_type=None,\n",
              "              interaction_constraints=None, learning_rate=None, max_bin=None,\n",
              "              max_cat_threshold=None, max_cat_to_onehot=None,\n",
              "              max_delta_step=None, max_depth=None, max_leaves=None,\n",
              "              min_child_weight=None, missing=nan, monotone_constraints=None,\n",
              "              n_estimators=100, n_jobs=None, num_parallel_tree=None,\n",
              "              predictor=None, random_state=None, ...)</pre></div></div></div></div></div>"
            ]
          },
          "metadata": {},
          "execution_count": 41
        }
      ]
    },
    {
      "cell_type": "code",
      "source": [
        "#y_pred = bst.predict(X_test)\n",
        "accuracy = bst.score(X_test, y_test)\n",
        "print(accuracy)"
      ],
      "metadata": {
        "colab": {
          "base_uri": "https://localhost:8080/"
        },
        "id": "uciXhCPx43f6",
        "outputId": "2b46e0e5-f040-4de9-dbf8-87244afb738a"
      },
      "execution_count": 46,
      "outputs": [
        {
          "output_type": "stream",
          "name": "stdout",
          "text": [
            "0.9195811586426679\n"
          ]
        }
      ]
    },
    {
      "cell_type": "code",
      "source": [
        "fi_df = pd.DataFrame()\n",
        "\n",
        "fi_df['Col'] = feature_columns\n",
        "fi_df['imp'] = bst.feature_importances_\n",
        "\n",
        "fi_df.sort_values(by='imp',ascending=False,inplace=True)\n",
        "\n",
        "fi_df.head(50)"
      ],
      "metadata": {
        "id": "jW3J-pa-7YKP",
        "outputId": "00394114-de7b-4563-fa5a-3072dfc9bede",
        "colab": {
          "base_uri": "https://localhost:8080/",
          "height": 1000
        }
      },
      "execution_count": 59,
      "outputs": [
        {
          "output_type": "execute_result",
          "data": {
            "text/plain": [
              "                              Col  imp\n",
              "40                   EXT_SOURCE_2 0.04\n",
              "41                   EXT_SOURCE_3 0.04\n",
              "1                     CODE_GENDER 0.03\n",
              "95                FLAG_DOCUMENT_3 0.02\n",
              "11            NAME_EDUCATION_TYPE 0.02\n",
              "0              NAME_CONTRACT_TYPE 0.02\n",
              "8                 AMT_GOODS_PRICE 0.02\n",
              "29    REGION_RATING_CLIENT_W_CITY 0.02\n",
              "39                   EXT_SOURCE_1 0.02\n",
              "6                      AMT_CREDIT 0.01\n",
              "19                    OWN_CAR_AGE 0.01\n",
              "38              ORGANIZATION_TYPE 0.01\n",
              "88            EMERGENCYSTATE_MODE 0.01\n",
              "7                     AMT_ANNUITY 0.01\n",
              "15                     DAYS_BIRTH 0.01\n",
              "16                  DAYS_EMPLOYED 0.01\n",
              "35         REG_CITY_NOT_LIVE_CITY 0.01\n",
              "10               NAME_INCOME_TYPE 0.01\n",
              "108              FLAG_DOCUMENT_16 0.01\n",
              "90       DEF_30_CNT_SOCIAL_CIRCLE 0.01\n",
              "26                OCCUPATION_TYPE 0.01\n",
              "110              FLAG_DOCUMENT_18 0.01\n",
              "77                 FLOORSMAX_MEDI 0.01\n",
              "22                FLAG_WORK_PHONE 0.01\n",
              "118     AMT_REQ_CREDIT_BUREAU_QRT 0.01\n",
              "75                 ELEVATORS_MEDI 0.01\n",
              "12             NAME_FAMILY_STATUS 0.01\n",
              "53                 LIVINGAREA_AVG 0.01\n",
              "92       DEF_60_CNT_SOCIAL_CIRCLE 0.01\n",
              "79                  LANDAREA_MEDI 0.01\n",
              "31        HOUR_APPR_PROCESS_START 0.01\n",
              "85                 HOUSETYPE_MODE 0.01\n",
              "72   YEARS_BEGINEXPLUATATION_MEDI 0.01\n",
              "61                 ELEVATORS_MODE 0.01\n",
              "93         DAYS_LAST_PHONE_CHANGE 0.01\n",
              "78                 FLOORSMIN_MEDI 0.01\n",
              "13              NAME_HOUSING_TYPE 0.01\n",
              "68       NONLIVINGAPARTMENTS_MODE 0.01\n",
              "91       OBS_60_CNT_SOCIAL_CIRCLE 0.01\n",
              "87             WALLSMATERIAL_MODE 0.01\n",
              "23               FLAG_CONT_MOBILE 0.01\n",
              "18                DAYS_ID_PUBLISH 0.01\n",
              "65                  LANDAREA_MODE 0.01\n",
              "17              DAYS_REGISTRATION 0.01\n",
              "30     WEEKDAY_APPR_PROCESS_START 0.01\n",
              "86                 TOTALAREA_MODE 0.01\n",
              "116    AMT_REQ_CREDIT_BUREAU_WEEK 0.01\n",
              "56                APARTMENTS_MODE 0.01\n",
              "73               YEARS_BUILD_MEDI 0.01\n",
              "70                APARTMENTS_MEDI 0.01"
            ],
            "text/html": [
              "\n",
              "  <div id=\"df-3a6626ce-9b09-4215-9871-371b6484dce9\">\n",
              "    <div class=\"colab-df-container\">\n",
              "      <div>\n",
              "<style scoped>\n",
              "    .dataframe tbody tr th:only-of-type {\n",
              "        vertical-align: middle;\n",
              "    }\n",
              "\n",
              "    .dataframe tbody tr th {\n",
              "        vertical-align: top;\n",
              "    }\n",
              "\n",
              "    .dataframe thead th {\n",
              "        text-align: right;\n",
              "    }\n",
              "</style>\n",
              "<table border=\"1\" class=\"dataframe\">\n",
              "  <thead>\n",
              "    <tr style=\"text-align: right;\">\n",
              "      <th></th>\n",
              "      <th>Col</th>\n",
              "      <th>imp</th>\n",
              "    </tr>\n",
              "  </thead>\n",
              "  <tbody>\n",
              "    <tr>\n",
              "      <th>40</th>\n",
              "      <td>EXT_SOURCE_2</td>\n",
              "      <td>0.04</td>\n",
              "    </tr>\n",
              "    <tr>\n",
              "      <th>41</th>\n",
              "      <td>EXT_SOURCE_3</td>\n",
              "      <td>0.04</td>\n",
              "    </tr>\n",
              "    <tr>\n",
              "      <th>1</th>\n",
              "      <td>CODE_GENDER</td>\n",
              "      <td>0.03</td>\n",
              "    </tr>\n",
              "    <tr>\n",
              "      <th>95</th>\n",
              "      <td>FLAG_DOCUMENT_3</td>\n",
              "      <td>0.02</td>\n",
              "    </tr>\n",
              "    <tr>\n",
              "      <th>11</th>\n",
              "      <td>NAME_EDUCATION_TYPE</td>\n",
              "      <td>0.02</td>\n",
              "    </tr>\n",
              "    <tr>\n",
              "      <th>0</th>\n",
              "      <td>NAME_CONTRACT_TYPE</td>\n",
              "      <td>0.02</td>\n",
              "    </tr>\n",
              "    <tr>\n",
              "      <th>8</th>\n",
              "      <td>AMT_GOODS_PRICE</td>\n",
              "      <td>0.02</td>\n",
              "    </tr>\n",
              "    <tr>\n",
              "      <th>29</th>\n",
              "      <td>REGION_RATING_CLIENT_W_CITY</td>\n",
              "      <td>0.02</td>\n",
              "    </tr>\n",
              "    <tr>\n",
              "      <th>39</th>\n",
              "      <td>EXT_SOURCE_1</td>\n",
              "      <td>0.02</td>\n",
              "    </tr>\n",
              "    <tr>\n",
              "      <th>6</th>\n",
              "      <td>AMT_CREDIT</td>\n",
              "      <td>0.01</td>\n",
              "    </tr>\n",
              "    <tr>\n",
              "      <th>19</th>\n",
              "      <td>OWN_CAR_AGE</td>\n",
              "      <td>0.01</td>\n",
              "    </tr>\n",
              "    <tr>\n",
              "      <th>38</th>\n",
              "      <td>ORGANIZATION_TYPE</td>\n",
              "      <td>0.01</td>\n",
              "    </tr>\n",
              "    <tr>\n",
              "      <th>88</th>\n",
              "      <td>EMERGENCYSTATE_MODE</td>\n",
              "      <td>0.01</td>\n",
              "    </tr>\n",
              "    <tr>\n",
              "      <th>7</th>\n",
              "      <td>AMT_ANNUITY</td>\n",
              "      <td>0.01</td>\n",
              "    </tr>\n",
              "    <tr>\n",
              "      <th>15</th>\n",
              "      <td>DAYS_BIRTH</td>\n",
              "      <td>0.01</td>\n",
              "    </tr>\n",
              "    <tr>\n",
              "      <th>16</th>\n",
              "      <td>DAYS_EMPLOYED</td>\n",
              "      <td>0.01</td>\n",
              "    </tr>\n",
              "    <tr>\n",
              "      <th>35</th>\n",
              "      <td>REG_CITY_NOT_LIVE_CITY</td>\n",
              "      <td>0.01</td>\n",
              "    </tr>\n",
              "    <tr>\n",
              "      <th>10</th>\n",
              "      <td>NAME_INCOME_TYPE</td>\n",
              "      <td>0.01</td>\n",
              "    </tr>\n",
              "    <tr>\n",
              "      <th>108</th>\n",
              "      <td>FLAG_DOCUMENT_16</td>\n",
              "      <td>0.01</td>\n",
              "    </tr>\n",
              "    <tr>\n",
              "      <th>90</th>\n",
              "      <td>DEF_30_CNT_SOCIAL_CIRCLE</td>\n",
              "      <td>0.01</td>\n",
              "    </tr>\n",
              "    <tr>\n",
              "      <th>26</th>\n",
              "      <td>OCCUPATION_TYPE</td>\n",
              "      <td>0.01</td>\n",
              "    </tr>\n",
              "    <tr>\n",
              "      <th>110</th>\n",
              "      <td>FLAG_DOCUMENT_18</td>\n",
              "      <td>0.01</td>\n",
              "    </tr>\n",
              "    <tr>\n",
              "      <th>77</th>\n",
              "      <td>FLOORSMAX_MEDI</td>\n",
              "      <td>0.01</td>\n",
              "    </tr>\n",
              "    <tr>\n",
              "      <th>22</th>\n",
              "      <td>FLAG_WORK_PHONE</td>\n",
              "      <td>0.01</td>\n",
              "    </tr>\n",
              "    <tr>\n",
              "      <th>118</th>\n",
              "      <td>AMT_REQ_CREDIT_BUREAU_QRT</td>\n",
              "      <td>0.01</td>\n",
              "    </tr>\n",
              "    <tr>\n",
              "      <th>75</th>\n",
              "      <td>ELEVATORS_MEDI</td>\n",
              "      <td>0.01</td>\n",
              "    </tr>\n",
              "    <tr>\n",
              "      <th>12</th>\n",
              "      <td>NAME_FAMILY_STATUS</td>\n",
              "      <td>0.01</td>\n",
              "    </tr>\n",
              "    <tr>\n",
              "      <th>53</th>\n",
              "      <td>LIVINGAREA_AVG</td>\n",
              "      <td>0.01</td>\n",
              "    </tr>\n",
              "    <tr>\n",
              "      <th>92</th>\n",
              "      <td>DEF_60_CNT_SOCIAL_CIRCLE</td>\n",
              "      <td>0.01</td>\n",
              "    </tr>\n",
              "    <tr>\n",
              "      <th>79</th>\n",
              "      <td>LANDAREA_MEDI</td>\n",
              "      <td>0.01</td>\n",
              "    </tr>\n",
              "    <tr>\n",
              "      <th>31</th>\n",
              "      <td>HOUR_APPR_PROCESS_START</td>\n",
              "      <td>0.01</td>\n",
              "    </tr>\n",
              "    <tr>\n",
              "      <th>85</th>\n",
              "      <td>HOUSETYPE_MODE</td>\n",
              "      <td>0.01</td>\n",
              "    </tr>\n",
              "    <tr>\n",
              "      <th>72</th>\n",
              "      <td>YEARS_BEGINEXPLUATATION_MEDI</td>\n",
              "      <td>0.01</td>\n",
              "    </tr>\n",
              "    <tr>\n",
              "      <th>61</th>\n",
              "      <td>ELEVATORS_MODE</td>\n",
              "      <td>0.01</td>\n",
              "    </tr>\n",
              "    <tr>\n",
              "      <th>93</th>\n",
              "      <td>DAYS_LAST_PHONE_CHANGE</td>\n",
              "      <td>0.01</td>\n",
              "    </tr>\n",
              "    <tr>\n",
              "      <th>78</th>\n",
              "      <td>FLOORSMIN_MEDI</td>\n",
              "      <td>0.01</td>\n",
              "    </tr>\n",
              "    <tr>\n",
              "      <th>13</th>\n",
              "      <td>NAME_HOUSING_TYPE</td>\n",
              "      <td>0.01</td>\n",
              "    </tr>\n",
              "    <tr>\n",
              "      <th>68</th>\n",
              "      <td>NONLIVINGAPARTMENTS_MODE</td>\n",
              "      <td>0.01</td>\n",
              "    </tr>\n",
              "    <tr>\n",
              "      <th>91</th>\n",
              "      <td>OBS_60_CNT_SOCIAL_CIRCLE</td>\n",
              "      <td>0.01</td>\n",
              "    </tr>\n",
              "    <tr>\n",
              "      <th>87</th>\n",
              "      <td>WALLSMATERIAL_MODE</td>\n",
              "      <td>0.01</td>\n",
              "    </tr>\n",
              "    <tr>\n",
              "      <th>23</th>\n",
              "      <td>FLAG_CONT_MOBILE</td>\n",
              "      <td>0.01</td>\n",
              "    </tr>\n",
              "    <tr>\n",
              "      <th>18</th>\n",
              "      <td>DAYS_ID_PUBLISH</td>\n",
              "      <td>0.01</td>\n",
              "    </tr>\n",
              "    <tr>\n",
              "      <th>65</th>\n",
              "      <td>LANDAREA_MODE</td>\n",
              "      <td>0.01</td>\n",
              "    </tr>\n",
              "    <tr>\n",
              "      <th>17</th>\n",
              "      <td>DAYS_REGISTRATION</td>\n",
              "      <td>0.01</td>\n",
              "    </tr>\n",
              "    <tr>\n",
              "      <th>30</th>\n",
              "      <td>WEEKDAY_APPR_PROCESS_START</td>\n",
              "      <td>0.01</td>\n",
              "    </tr>\n",
              "    <tr>\n",
              "      <th>86</th>\n",
              "      <td>TOTALAREA_MODE</td>\n",
              "      <td>0.01</td>\n",
              "    </tr>\n",
              "    <tr>\n",
              "      <th>116</th>\n",
              "      <td>AMT_REQ_CREDIT_BUREAU_WEEK</td>\n",
              "      <td>0.01</td>\n",
              "    </tr>\n",
              "    <tr>\n",
              "      <th>56</th>\n",
              "      <td>APARTMENTS_MODE</td>\n",
              "      <td>0.01</td>\n",
              "    </tr>\n",
              "    <tr>\n",
              "      <th>73</th>\n",
              "      <td>YEARS_BUILD_MEDI</td>\n",
              "      <td>0.01</td>\n",
              "    </tr>\n",
              "    <tr>\n",
              "      <th>70</th>\n",
              "      <td>APARTMENTS_MEDI</td>\n",
              "      <td>0.01</td>\n",
              "    </tr>\n",
              "  </tbody>\n",
              "</table>\n",
              "</div>\n",
              "      <button class=\"colab-df-convert\" onclick=\"convertToInteractive('df-3a6626ce-9b09-4215-9871-371b6484dce9')\"\n",
              "              title=\"Convert this dataframe to an interactive table.\"\n",
              "              style=\"display:none;\">\n",
              "        \n",
              "  <svg xmlns=\"http://www.w3.org/2000/svg\" height=\"24px\"viewBox=\"0 0 24 24\"\n",
              "       width=\"24px\">\n",
              "    <path d=\"M0 0h24v24H0V0z\" fill=\"none\"/>\n",
              "    <path d=\"M18.56 5.44l.94 2.06.94-2.06 2.06-.94-2.06-.94-.94-2.06-.94 2.06-2.06.94zm-11 1L8.5 8.5l.94-2.06 2.06-.94-2.06-.94L8.5 2.5l-.94 2.06-2.06.94zm10 10l.94 2.06.94-2.06 2.06-.94-2.06-.94-.94-2.06-.94 2.06-2.06.94z\"/><path d=\"M17.41 7.96l-1.37-1.37c-.4-.4-.92-.59-1.43-.59-.52 0-1.04.2-1.43.59L10.3 9.45l-7.72 7.72c-.78.78-.78 2.05 0 2.83L4 21.41c.39.39.9.59 1.41.59.51 0 1.02-.2 1.41-.59l7.78-7.78 2.81-2.81c.8-.78.8-2.07 0-2.86zM5.41 20L4 18.59l7.72-7.72 1.47 1.35L5.41 20z\"/>\n",
              "  </svg>\n",
              "      </button>\n",
              "      \n",
              "  <style>\n",
              "    .colab-df-container {\n",
              "      display:flex;\n",
              "      flex-wrap:wrap;\n",
              "      gap: 12px;\n",
              "    }\n",
              "\n",
              "    .colab-df-convert {\n",
              "      background-color: #E8F0FE;\n",
              "      border: none;\n",
              "      border-radius: 50%;\n",
              "      cursor: pointer;\n",
              "      display: none;\n",
              "      fill: #1967D2;\n",
              "      height: 32px;\n",
              "      padding: 0 0 0 0;\n",
              "      width: 32px;\n",
              "    }\n",
              "\n",
              "    .colab-df-convert:hover {\n",
              "      background-color: #E2EBFA;\n",
              "      box-shadow: 0px 1px 2px rgba(60, 64, 67, 0.3), 0px 1px 3px 1px rgba(60, 64, 67, 0.15);\n",
              "      fill: #174EA6;\n",
              "    }\n",
              "\n",
              "    [theme=dark] .colab-df-convert {\n",
              "      background-color: #3B4455;\n",
              "      fill: #D2E3FC;\n",
              "    }\n",
              "\n",
              "    [theme=dark] .colab-df-convert:hover {\n",
              "      background-color: #434B5C;\n",
              "      box-shadow: 0px 1px 3px 1px rgba(0, 0, 0, 0.15);\n",
              "      filter: drop-shadow(0px 1px 2px rgba(0, 0, 0, 0.3));\n",
              "      fill: #FFFFFF;\n",
              "    }\n",
              "  </style>\n",
              "\n",
              "      <script>\n",
              "        const buttonEl =\n",
              "          document.querySelector('#df-3a6626ce-9b09-4215-9871-371b6484dce9 button.colab-df-convert');\n",
              "        buttonEl.style.display =\n",
              "          google.colab.kernel.accessAllowed ? 'block' : 'none';\n",
              "\n",
              "        async function convertToInteractive(key) {\n",
              "          const element = document.querySelector('#df-3a6626ce-9b09-4215-9871-371b6484dce9');\n",
              "          const dataTable =\n",
              "            await google.colab.kernel.invokeFunction('convertToInteractive',\n",
              "                                                     [key], {});\n",
              "          if (!dataTable) return;\n",
              "\n",
              "          const docLinkHtml = 'Like what you see? Visit the ' +\n",
              "            '<a target=\"_blank\" href=https://colab.research.google.com/notebooks/data_table.ipynb>data table notebook</a>'\n",
              "            + ' to learn more about interactive tables.';\n",
              "          element.innerHTML = '';\n",
              "          dataTable['output_type'] = 'display_data';\n",
              "          await google.colab.output.renderOutput(dataTable, element);\n",
              "          const docLink = document.createElement('div');\n",
              "          docLink.innerHTML = docLinkHtml;\n",
              "          element.appendChild(docLink);\n",
              "        }\n",
              "      </script>\n",
              "    </div>\n",
              "  </div>\n",
              "  "
            ]
          },
          "metadata": {},
          "execution_count": 59
        }
      ]
    }
  ]
}