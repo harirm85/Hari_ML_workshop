{
  "nbformat": 4,
  "nbformat_minor": 0,
  "metadata": {
    "colab": {
      "provenance": [],
      "authorship_tag": "ABX9TyP16w3bnC2e+bqpgLYVXr/K",
      "include_colab_link": true
    },
    "kernelspec": {
      "name": "python3",
      "display_name": "Python 3"
    },
    "language_info": {
      "name": "python"
    }
  },
  "cells": [
    {
      "cell_type": "markdown",
      "metadata": {
        "id": "view-in-github",
        "colab_type": "text"
      },
      "source": [
        "<a href=\"https://colab.research.google.com/github/harirm85/Hari_ML_workshop/blob/main/Home_Credit_App_CV.ipynb\" target=\"_parent\"><img src=\"https://colab.research.google.com/assets/colab-badge.svg\" alt=\"Open In Colab\"/></a>"
      ]
    },
    {
      "cell_type": "markdown",
      "source": [
        "Cross Vlidation of XG Boost"
      ],
      "metadata": {
        "id": "1wiquYAGh4K0"
      }
    },
    {
      "cell_type": "code",
      "execution_count": 1,
      "metadata": {
        "id": "Je83G_Vghzpa"
      },
      "outputs": [],
      "source": [
        "import numpy as np\n",
        "import pandas as pd\n",
        "import matplotlib.pyplot as plt\n",
        "import seaborn as sns\n",
        "\n",
        "pd.options.display.float_format = '{:,.2f}'.format"
      ]
    },
    {
      "cell_type": "code",
      "source": [
        "# Connect to Google Drive\n",
        "from google.colab import drive\n",
        "drive.mount('/content/drive')\n",
        "\n",
        "# Copy the Jason file and set security\n",
        "!mkdir -p ~/.kaggle\n",
        "!cp '/content/drive/MyDrive/Kaggle/kaggle.json' ~/.kaggle/kaggle.json\n",
        "!chmod 600 ~/.kaggle/kaggle.json\n",
        "\n",
        "#Download data\n",
        "!kaggle competitions download -c home-credit-default-risk\n",
        "\n",
        "import zipfile\n",
        "\n",
        "# Specify the path to the downloaded zip file\n",
        "zip_path = \"/content/home-credit-default-risk.zip\"\n",
        "\n",
        "# Specify the directory to extract the files to\n",
        "extract_path = \"/content/home-credit-default-risk\"\n",
        "\n",
        "# Extract the zip file\n",
        "with zipfile.ZipFile(zip_path, 'r') as zip_ref:\n",
        "    zip_ref.extractall(extract_path)"
      ],
      "metadata": {
        "colab": {
          "base_uri": "https://localhost:8080/"
        },
        "id": "D2feiibDiJTZ",
        "outputId": "80c12a56-9b16-4d1e-ec13-560a60936735"
      },
      "execution_count": 2,
      "outputs": [
        {
          "output_type": "stream",
          "name": "stdout",
          "text": [
            "Mounted at /content/drive\n",
            "Downloading home-credit-default-risk.zip to /content\n",
            " 99% 683M/688M [00:04<00:00, 185MB/s]\n",
            "100% 688M/688M [00:04<00:00, 168MB/s]\n"
          ]
        }
      ]
    },
    {
      "cell_type": "code",
      "source": [
        "#Take app train data and load to DF\n",
        "app_data = pd.read_csv('/content/home-credit-default-risk/application_train.csv')\n",
        "\n",
        "print(app_data.shape)\n",
        "print(app_data.columns)"
      ],
      "metadata": {
        "colab": {
          "base_uri": "https://localhost:8080/"
        },
        "id": "Pi-zjKDck_hy",
        "outputId": "a3672af9-4d41-4256-f577-61de29971dd8"
      },
      "execution_count": 3,
      "outputs": [
        {
          "output_type": "stream",
          "name": "stdout",
          "text": [
            "Index(['SK_ID_CURR', 'TARGET', 'NAME_CONTRACT_TYPE', 'CODE_GENDER',\n",
            "       'FLAG_OWN_CAR', 'FLAG_OWN_REALTY', 'CNT_CHILDREN', 'AMT_INCOME_TOTAL',\n",
            "       'AMT_CREDIT', 'AMT_ANNUITY',\n",
            "       ...\n",
            "       'FLAG_DOCUMENT_18', 'FLAG_DOCUMENT_19', 'FLAG_DOCUMENT_20',\n",
            "       'FLAG_DOCUMENT_21', 'AMT_REQ_CREDIT_BUREAU_HOUR',\n",
            "       'AMT_REQ_CREDIT_BUREAU_DAY', 'AMT_REQ_CREDIT_BUREAU_WEEK',\n",
            "       'AMT_REQ_CREDIT_BUREAU_MON', 'AMT_REQ_CREDIT_BUREAU_QRT',\n",
            "       'AMT_REQ_CREDIT_BUREAU_YEAR'],\n",
            "      dtype='object', length=122)\n"
          ]
        }
      ]
    },
    {
      "cell_type": "code",
      "source": [
        "#Set Features and label fields\n",
        "label_col = 'TARGET'\n",
        "feature_columns = app_data.columns\n",
        "feature_columns = feature_columns.drop (['SK_ID_CURR', 'TARGET']) \n",
        "\n",
        "#Check duplicates\n",
        "duplicates = app_data.duplicated().sum(axis=0)\n",
        "print(duplicates) #no dups for all fields\n",
        "\n",
        "#Fix data types\n",
        "dtypes= {'NAME_CONTRACT_TYPE': 'category' ,'CODE_GENDER': 'category','FLAG_OWN_CAR': 'category','FLAG_OWN_REALTY': 'category'\n",
        "  ,'NAME_TYPE_SUITE': 'category','NAME_INCOME_TYPE': 'category','NAME_EDUCATION_TYPE': 'category','NAME_FAMILY_STATUS': 'category'\n",
        "  ,'NAME_HOUSING_TYPE': 'category','FLAG_MOBIL': 'category','FLAG_EMP_PHONE': 'category','FLAG_WORK_PHONE': 'category'\n",
        "  ,'FLAG_CONT_MOBILE': 'category','FLAG_PHONE': 'category','FLAG_EMAIL': 'category','OCCUPATION_TYPE': 'category'\n",
        "  ,'CNT_FAM_MEMBERS': 'category','REGION_RATING_CLIENT': 'category','REGION_RATING_CLIENT_W_CITY': 'category'  \n",
        "  ,'WEEKDAY_APPR_PROCESS_START': 'category','HOUR_APPR_PROCESS_START': 'category','REG_REGION_NOT_LIVE_REGION': 'category'\n",
        "  ,'REG_REGION_NOT_WORK_REGION': 'category','LIVE_REGION_NOT_WORK_REGION': 'category','REG_CITY_NOT_LIVE_CITY': 'category'\n",
        "  ,'REG_CITY_NOT_WORK_CITY': 'category','LIVE_CITY_NOT_WORK_CITY': 'category','ORGANIZATION_TYPE': 'category'\n",
        "  ,'FONDKAPREMONT_MODE': 'category','HOUSETYPE_MODE': 'category','WALLSMATERIAL_MODE': 'category', 'EMERGENCYSTATE_MODE': 'category'\n",
        "  ,'FLAG_DOCUMENT_2': 'category','FLAG_DOCUMENT_3': 'category','FLAG_DOCUMENT_4': 'category', 'FLAG_DOCUMENT_5': 'category'\n",
        "  ,'FLAG_DOCUMENT_6': 'category','FLAG_DOCUMENT_7': 'category','FLAG_DOCUMENT_8': 'category', 'FLAG_DOCUMENT_9': 'category'\n",
        "  ,'FLAG_DOCUMENT_10': 'category','FLAG_DOCUMENT_11': 'category','FLAG_DOCUMENT_12': 'category', 'FLAG_DOCUMENT_13': 'category'\n",
        "  ,'FLAG_DOCUMENT_14': 'category','FLAG_DOCUMENT_15': 'category','FLAG_DOCUMENT_16': 'category', 'FLAG_DOCUMENT_17': 'category'\n",
        "  ,'FLAG_DOCUMENT_18': 'category','FLAG_DOCUMENT_19': 'category','FLAG_DOCUMENT_20': 'category', 'FLAG_DOCUMENT_21': 'category'\n",
        " }\n",
        "\n",
        "app_data = app_data.astype(dtypes)"
      ],
      "metadata": {
        "id": "Uw4zO0rNmRRD"
      },
      "execution_count": 4,
      "outputs": []
    },
    {
      "cell_type": "code",
      "source": [
        "app_data.info(verbose=True, show_counts=True)"
      ],
      "metadata": {
        "colab": {
          "base_uri": "https://localhost:8080/"
        },
        "id": "eL-56dcdmcGu",
        "outputId": "782642f0-0ff5-44c9-a402-4bb084b5c9c3"
      },
      "execution_count": 5,
      "outputs": [
        {
          "output_type": "stream",
          "name": "stdout",
          "text": [
            "<class 'pandas.core.frame.DataFrame'>\n",
            "RangeIndex: 307511 entries, 0 to 307510\n",
            "Data columns (total 122 columns):\n",
            " #    Column                        Non-Null Count   Dtype   \n",
            "---   ------                        --------------   -----   \n",
            " 0    SK_ID_CURR                    307511 non-null  int64   \n",
            " 1    TARGET                        307511 non-null  int64   \n",
            " 2    NAME_CONTRACT_TYPE            307511 non-null  category\n",
            " 3    CODE_GENDER                   307511 non-null  category\n",
            " 4    FLAG_OWN_CAR                  307511 non-null  category\n",
            " 5    FLAG_OWN_REALTY               307511 non-null  category\n",
            " 6    CNT_CHILDREN                  307511 non-null  int64   \n",
            " 7    AMT_INCOME_TOTAL              307511 non-null  float64 \n",
            " 8    AMT_CREDIT                    307511 non-null  float64 \n",
            " 9    AMT_ANNUITY                   307499 non-null  float64 \n",
            " 10   AMT_GOODS_PRICE               307233 non-null  float64 \n",
            " 11   NAME_TYPE_SUITE               306219 non-null  category\n",
            " 12   NAME_INCOME_TYPE              307511 non-null  category\n",
            " 13   NAME_EDUCATION_TYPE           307511 non-null  category\n",
            " 14   NAME_FAMILY_STATUS            307511 non-null  category\n",
            " 15   NAME_HOUSING_TYPE             307511 non-null  category\n",
            " 16   REGION_POPULATION_RELATIVE    307511 non-null  float64 \n",
            " 17   DAYS_BIRTH                    307511 non-null  int64   \n",
            " 18   DAYS_EMPLOYED                 307511 non-null  int64   \n",
            " 19   DAYS_REGISTRATION             307511 non-null  float64 \n",
            " 20   DAYS_ID_PUBLISH               307511 non-null  int64   \n",
            " 21   OWN_CAR_AGE                   104582 non-null  float64 \n",
            " 22   FLAG_MOBIL                    307511 non-null  category\n",
            " 23   FLAG_EMP_PHONE                307511 non-null  category\n",
            " 24   FLAG_WORK_PHONE               307511 non-null  category\n",
            " 25   FLAG_CONT_MOBILE              307511 non-null  category\n",
            " 26   FLAG_PHONE                    307511 non-null  category\n",
            " 27   FLAG_EMAIL                    307511 non-null  category\n",
            " 28   OCCUPATION_TYPE               211120 non-null  category\n",
            " 29   CNT_FAM_MEMBERS               307509 non-null  category\n",
            " 30   REGION_RATING_CLIENT          307511 non-null  category\n",
            " 31   REGION_RATING_CLIENT_W_CITY   307511 non-null  category\n",
            " 32   WEEKDAY_APPR_PROCESS_START    307511 non-null  category\n",
            " 33   HOUR_APPR_PROCESS_START       307511 non-null  category\n",
            " 34   REG_REGION_NOT_LIVE_REGION    307511 non-null  category\n",
            " 35   REG_REGION_NOT_WORK_REGION    307511 non-null  category\n",
            " 36   LIVE_REGION_NOT_WORK_REGION   307511 non-null  category\n",
            " 37   REG_CITY_NOT_LIVE_CITY        307511 non-null  category\n",
            " 38   REG_CITY_NOT_WORK_CITY        307511 non-null  category\n",
            " 39   LIVE_CITY_NOT_WORK_CITY       307511 non-null  category\n",
            " 40   ORGANIZATION_TYPE             307511 non-null  category\n",
            " 41   EXT_SOURCE_1                  134133 non-null  float64 \n",
            " 42   EXT_SOURCE_2                  306851 non-null  float64 \n",
            " 43   EXT_SOURCE_3                  246546 non-null  float64 \n",
            " 44   APARTMENTS_AVG                151450 non-null  float64 \n",
            " 45   BASEMENTAREA_AVG              127568 non-null  float64 \n",
            " 46   YEARS_BEGINEXPLUATATION_AVG   157504 non-null  float64 \n",
            " 47   YEARS_BUILD_AVG               103023 non-null  float64 \n",
            " 48   COMMONAREA_AVG                92646 non-null   float64 \n",
            " 49   ELEVATORS_AVG                 143620 non-null  float64 \n",
            " 50   ENTRANCES_AVG                 152683 non-null  float64 \n",
            " 51   FLOORSMAX_AVG                 154491 non-null  float64 \n",
            " 52   FLOORSMIN_AVG                 98869 non-null   float64 \n",
            " 53   LANDAREA_AVG                  124921 non-null  float64 \n",
            " 54   LIVINGAPARTMENTS_AVG          97312 non-null   float64 \n",
            " 55   LIVINGAREA_AVG                153161 non-null  float64 \n",
            " 56   NONLIVINGAPARTMENTS_AVG       93997 non-null   float64 \n",
            " 57   NONLIVINGAREA_AVG             137829 non-null  float64 \n",
            " 58   APARTMENTS_MODE               151450 non-null  float64 \n",
            " 59   BASEMENTAREA_MODE             127568 non-null  float64 \n",
            " 60   YEARS_BEGINEXPLUATATION_MODE  157504 non-null  float64 \n",
            " 61   YEARS_BUILD_MODE              103023 non-null  float64 \n",
            " 62   COMMONAREA_MODE               92646 non-null   float64 \n",
            " 63   ELEVATORS_MODE                143620 non-null  float64 \n",
            " 64   ENTRANCES_MODE                152683 non-null  float64 \n",
            " 65   FLOORSMAX_MODE                154491 non-null  float64 \n",
            " 66   FLOORSMIN_MODE                98869 non-null   float64 \n",
            " 67   LANDAREA_MODE                 124921 non-null  float64 \n",
            " 68   LIVINGAPARTMENTS_MODE         97312 non-null   float64 \n",
            " 69   LIVINGAREA_MODE               153161 non-null  float64 \n",
            " 70   NONLIVINGAPARTMENTS_MODE      93997 non-null   float64 \n",
            " 71   NONLIVINGAREA_MODE            137829 non-null  float64 \n",
            " 72   APARTMENTS_MEDI               151450 non-null  float64 \n",
            " 73   BASEMENTAREA_MEDI             127568 non-null  float64 \n",
            " 74   YEARS_BEGINEXPLUATATION_MEDI  157504 non-null  float64 \n",
            " 75   YEARS_BUILD_MEDI              103023 non-null  float64 \n",
            " 76   COMMONAREA_MEDI               92646 non-null   float64 \n",
            " 77   ELEVATORS_MEDI                143620 non-null  float64 \n",
            " 78   ENTRANCES_MEDI                152683 non-null  float64 \n",
            " 79   FLOORSMAX_MEDI                154491 non-null  float64 \n",
            " 80   FLOORSMIN_MEDI                98869 non-null   float64 \n",
            " 81   LANDAREA_MEDI                 124921 non-null  float64 \n",
            " 82   LIVINGAPARTMENTS_MEDI         97312 non-null   float64 \n",
            " 83   LIVINGAREA_MEDI               153161 non-null  float64 \n",
            " 84   NONLIVINGAPARTMENTS_MEDI      93997 non-null   float64 \n",
            " 85   NONLIVINGAREA_MEDI            137829 non-null  float64 \n",
            " 86   FONDKAPREMONT_MODE            97216 non-null   category\n",
            " 87   HOUSETYPE_MODE                153214 non-null  category\n",
            " 88   TOTALAREA_MODE                159080 non-null  float64 \n",
            " 89   WALLSMATERIAL_MODE            151170 non-null  category\n",
            " 90   EMERGENCYSTATE_MODE           161756 non-null  category\n",
            " 91   OBS_30_CNT_SOCIAL_CIRCLE      306490 non-null  float64 \n",
            " 92   DEF_30_CNT_SOCIAL_CIRCLE      306490 non-null  float64 \n",
            " 93   OBS_60_CNT_SOCIAL_CIRCLE      306490 non-null  float64 \n",
            " 94   DEF_60_CNT_SOCIAL_CIRCLE      306490 non-null  float64 \n",
            " 95   DAYS_LAST_PHONE_CHANGE        307510 non-null  float64 \n",
            " 96   FLAG_DOCUMENT_2               307511 non-null  category\n",
            " 97   FLAG_DOCUMENT_3               307511 non-null  category\n",
            " 98   FLAG_DOCUMENT_4               307511 non-null  category\n",
            " 99   FLAG_DOCUMENT_5               307511 non-null  category\n",
            " 100  FLAG_DOCUMENT_6               307511 non-null  category\n",
            " 101  FLAG_DOCUMENT_7               307511 non-null  category\n",
            " 102  FLAG_DOCUMENT_8               307511 non-null  category\n",
            " 103  FLAG_DOCUMENT_9               307511 non-null  category\n",
            " 104  FLAG_DOCUMENT_10              307511 non-null  category\n",
            " 105  FLAG_DOCUMENT_11              307511 non-null  category\n",
            " 106  FLAG_DOCUMENT_12              307511 non-null  category\n",
            " 107  FLAG_DOCUMENT_13              307511 non-null  category\n",
            " 108  FLAG_DOCUMENT_14              307511 non-null  category\n",
            " 109  FLAG_DOCUMENT_15              307511 non-null  category\n",
            " 110  FLAG_DOCUMENT_16              307511 non-null  category\n",
            " 111  FLAG_DOCUMENT_17              307511 non-null  category\n",
            " 112  FLAG_DOCUMENT_18              307511 non-null  category\n",
            " 113  FLAG_DOCUMENT_19              307511 non-null  category\n",
            " 114  FLAG_DOCUMENT_20              307511 non-null  category\n",
            " 115  FLAG_DOCUMENT_21              307511 non-null  category\n",
            " 116  AMT_REQ_CREDIT_BUREAU_HOUR    265992 non-null  float64 \n",
            " 117  AMT_REQ_CREDIT_BUREAU_DAY     265992 non-null  float64 \n",
            " 118  AMT_REQ_CREDIT_BUREAU_WEEK    265992 non-null  float64 \n",
            " 119  AMT_REQ_CREDIT_BUREAU_MON     265992 non-null  float64 \n",
            " 120  AMT_REQ_CREDIT_BUREAU_QRT     265992 non-null  float64 \n",
            " 121  AMT_REQ_CREDIT_BUREAU_YEAR    265992 non-null  float64 \n",
            "dtypes: category(52), float64(64), int64(6)\n",
            "memory usage: 179.5 MB\n"
          ]
        }
      ]
    },
    {
      "cell_type": "code",
      "source": [
        "#Fix missing Values\n",
        "missed_values = app_data.isna().sum(axis=0) / 307511\n",
        "print(missed_values.sort_values(ascending=False).head(50)) #no dups for all fields\n",
        "\n",
        "#40+ Fields have more than half data as null\n",
        "#We can remove them based on domain knowledge to correct the data"
      ],
      "metadata": {
        "colab": {
          "base_uri": "https://localhost:8080/"
        },
        "id": "-7np_eUvmfNx",
        "outputId": "77345422-d185-4c90-b859-0e344032a8dc"
      },
      "execution_count": 26,
      "outputs": [
        {
          "output_type": "stream",
          "name": "stdout",
          "text": [
            "COMMONAREA_MEDI                0.70\n",
            "COMMONAREA_AVG                 0.70\n",
            "COMMONAREA_MODE                0.70\n",
            "NONLIVINGAPARTMENTS_MODE       0.69\n",
            "NONLIVINGAPARTMENTS_AVG        0.69\n",
            "NONLIVINGAPARTMENTS_MEDI       0.69\n",
            "FONDKAPREMONT_MODE             0.68\n",
            "LIVINGAPARTMENTS_MODE          0.68\n",
            "LIVINGAPARTMENTS_AVG           0.68\n",
            "LIVINGAPARTMENTS_MEDI          0.68\n",
            "FLOORSMIN_AVG                  0.68\n",
            "FLOORSMIN_MODE                 0.68\n",
            "FLOORSMIN_MEDI                 0.68\n",
            "YEARS_BUILD_MEDI               0.66\n",
            "YEARS_BUILD_MODE               0.66\n",
            "YEARS_BUILD_AVG                0.66\n",
            "OWN_CAR_AGE                    0.66\n",
            "LANDAREA_MEDI                  0.59\n",
            "LANDAREA_MODE                  0.59\n",
            "LANDAREA_AVG                   0.59\n",
            "BASEMENTAREA_MEDI              0.59\n",
            "BASEMENTAREA_AVG               0.59\n",
            "BASEMENTAREA_MODE              0.59\n",
            "EXT_SOURCE_1                   0.56\n",
            "NONLIVINGAREA_MODE             0.55\n",
            "NONLIVINGAREA_AVG              0.55\n",
            "NONLIVINGAREA_MEDI             0.55\n",
            "ELEVATORS_MEDI                 0.53\n",
            "ELEVATORS_AVG                  0.53\n",
            "ELEVATORS_MODE                 0.53\n",
            "WALLSMATERIAL_MODE             0.51\n",
            "APARTMENTS_MEDI                0.51\n",
            "APARTMENTS_AVG                 0.51\n",
            "APARTMENTS_MODE                0.51\n",
            "ENTRANCES_MEDI                 0.50\n",
            "ENTRANCES_AVG                  0.50\n",
            "ENTRANCES_MODE                 0.50\n",
            "LIVINGAREA_AVG                 0.50\n",
            "LIVINGAREA_MODE                0.50\n",
            "LIVINGAREA_MEDI                0.50\n",
            "HOUSETYPE_MODE                 0.50\n",
            "FLOORSMAX_MODE                 0.50\n",
            "FLOORSMAX_MEDI                 0.50\n",
            "FLOORSMAX_AVG                  0.50\n",
            "YEARS_BEGINEXPLUATATION_MODE   0.49\n",
            "YEARS_BEGINEXPLUATATION_MEDI   0.49\n",
            "YEARS_BEGINEXPLUATATION_AVG    0.49\n",
            "TOTALAREA_MODE                 0.48\n",
            "EMERGENCYSTATE_MODE            0.47\n",
            "OCCUPATION_TYPE                0.31\n",
            "dtype: float64\n"
          ]
        }
      ]
    },
    {
      "cell_type": "code",
      "source": [
        "app_data.describe(include='all').T"
      ],
      "metadata": {
        "id": "ePo6Dta1nEtE"
      },
      "execution_count": null,
      "outputs": []
    },
    {
      "cell_type": "code",
      "source": [
        "app_data.shape"
      ],
      "metadata": {
        "colab": {
          "base_uri": "https://localhost:8080/"
        },
        "id": "yo94FDkvqHeI",
        "outputId": "a5d97f51-a8f4-4d81-ff79-b04338e7b413"
      },
      "execution_count": 21,
      "outputs": [
        {
          "output_type": "execute_result",
          "data": {
            "text/plain": [
              "(307511, 122)"
            ]
          },
          "metadata": {},
          "execution_count": 21
        }
      ]
    }
  ]
}