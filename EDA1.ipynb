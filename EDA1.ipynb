{
  "nbformat": 4,
  "nbformat_minor": 0,
  "metadata": {
    "colab": {
      "provenance": [],
      "authorship_tag": "ABX9TyPznUnBReCKMS0zq4Z6wYFU",
      "include_colab_link": true
    },
    "kernelspec": {
      "name": "python3",
      "display_name": "Python 3"
    },
    "language_info": {
      "name": "python"
    }
  },
  "cells": [
    {
      "cell_type": "markdown",
      "metadata": {
        "id": "view-in-github",
        "colab_type": "text"
      },
      "source": [
        "<a href=\"https://colab.research.google.com/github/harirm85/Hari_ML_workshop/blob/main/EDA1.ipynb\" target=\"_parent\"><img src=\"https://colab.research.google.com/assets/colab-badge.svg\" alt=\"Open In Colab\"/></a>"
      ]
    },
    {
      "cell_type": "code",
      "execution_count": 1,
      "metadata": {
        "id": "FXcdMFkp65nI"
      },
      "outputs": [],
      "source": [
        "import numpy as np\n",
        "import pandas as pd\n",
        "import matplotlib.pyplot as plt\n",
        "import seaborn as sns\n",
        "\n",
        "pd.options.display.float_format = '{:,.2f}'.format"
      ]
    },
    {
      "cell_type": "code",
      "source": [
        "# Connect to Google Drive\n",
        "from google.colab import drive\n",
        "drive.mount('/content/drive')\n",
        "\n",
        "# Copy the Jason file and set security\n",
        "!mkdir -p ~/.kaggle\n",
        "!cp '/content/drive/MyDrive/Kaggle/kaggle.json' ~/.kaggle/kaggle.json\n",
        "!chmod 600 ~/.kaggle/kaggle.json\n",
        "\n",
        "#Download data\n",
        "!kaggle competitions download -c home-credit-default-risk\n",
        "\n",
        "import zipfile\n",
        "\n",
        "# Specify the path to the downloaded zip file\n",
        "zip_path = \"/content/home-credit-default-risk.zip\"\n",
        "\n",
        "# Specify the directory to extract the files to\n",
        "extract_path = \"/content/home-credit-default-risk\"\n",
        "\n",
        "# Extract the zip file\n",
        "with zipfile.ZipFile(zip_path, 'r') as zip_ref:\n",
        "    zip_ref.extractall(extract_path)"
      ],
      "metadata": {
        "colab": {
          "base_uri": "https://localhost:8080/"
        },
        "id": "wreT0nVp7EHF",
        "outputId": "ee0bbe20-2601-4d64-b1a0-34f6f7eb8791"
      },
      "execution_count": 2,
      "outputs": [
        {
          "output_type": "stream",
          "name": "stdout",
          "text": [
            "Mounted at /content/drive\n",
            "Downloading home-credit-default-risk.zip to /content\n",
            " 98% 671M/688M [00:08<00:00, 83.6MB/s]\n",
            "100% 688M/688M [00:08<00:00, 84.6MB/s]\n"
          ]
        }
      ]
    },
    {
      "cell_type": "code",
      "source": [
        "#Take app train data and load to DF\n",
        "app_data = pd.read_csv('/content/home-credit-default-risk/application_train.csv')\n",
        "bur_data = pd.read_csv('/content/home-credit-default-risk/bureau.csv')\n",
        "\n",
        "print(bur_data.shape)"
      ],
      "metadata": {
        "colab": {
          "base_uri": "https://localhost:8080/"
        },
        "id": "wkcGuIMZ7c0i",
        "outputId": "bd8c77aa-37e5-4c41-a606-9ded3993384c"
      },
      "execution_count": 3,
      "outputs": [
        {
          "output_type": "stream",
          "name": "stdout",
          "text": [
            "(1716428, 17)\n"
          ]
        }
      ]
    },
    {
      "cell_type": "code",
      "source": [
        "bur_data.info(verbose=True, show_counts=True)"
      ],
      "metadata": {
        "colab": {
          "base_uri": "https://localhost:8080/"
        },
        "id": "WCRy2U6k77I6",
        "outputId": "3f985bb9-d0df-4a6c-9d45-d551edd6aa36"
      },
      "execution_count": 4,
      "outputs": [
        {
          "output_type": "stream",
          "name": "stdout",
          "text": [
            "<class 'pandas.core.frame.DataFrame'>\n",
            "RangeIndex: 1716428 entries, 0 to 1716427\n",
            "Data columns (total 17 columns):\n",
            " #   Column                  Non-Null Count    Dtype  \n",
            "---  ------                  --------------    -----  \n",
            " 0   SK_ID_CURR              1716428 non-null  int64  \n",
            " 1   SK_ID_BUREAU            1716428 non-null  int64  \n",
            " 2   CREDIT_ACTIVE           1716428 non-null  object \n",
            " 3   CREDIT_CURRENCY         1716428 non-null  object \n",
            " 4   DAYS_CREDIT             1716428 non-null  int64  \n",
            " 5   CREDIT_DAY_OVERDUE      1716428 non-null  int64  \n",
            " 6   DAYS_CREDIT_ENDDATE     1610875 non-null  float64\n",
            " 7   DAYS_ENDDATE_FACT       1082775 non-null  float64\n",
            " 8   AMT_CREDIT_MAX_OVERDUE  591940 non-null   float64\n",
            " 9   CNT_CREDIT_PROLONG      1716428 non-null  int64  \n",
            " 10  AMT_CREDIT_SUM          1716415 non-null  float64\n",
            " 11  AMT_CREDIT_SUM_DEBT     1458759 non-null  float64\n",
            " 12  AMT_CREDIT_SUM_LIMIT    1124648 non-null  float64\n",
            " 13  AMT_CREDIT_SUM_OVERDUE  1716428 non-null  float64\n",
            " 14  CREDIT_TYPE             1716428 non-null  object \n",
            " 15  DAYS_CREDIT_UPDATE      1716428 non-null  int64  \n",
            " 16  AMT_ANNUITY             489637 non-null   float64\n",
            "dtypes: float64(8), int64(6), object(3)\n",
            "memory usage: 222.6+ MB\n"
          ]
        }
      ]
    },
    {
      "cell_type": "code",
      "source": [
        "bur_data[bur_data['AMT_CREDIT_SUM_OVERDUE']>0].head(2)"
      ],
      "metadata": {
        "colab": {
          "base_uri": "https://localhost:8080/",
          "height": 211
        },
        "id": "vfn9z02R8j6G",
        "outputId": "59c81d74-930a-4c40-fef3-86f300ed830a"
      },
      "execution_count": 27,
      "outputs": [
        {
          "output_type": "execute_result",
          "data": {
            "text/plain": [
              "     SK_ID_CURR  SK_ID_BUREAU CREDIT_ACTIVE CREDIT_CURRENCY  DAYS_CREDIT  \\\n",
              "365      282297       5714943        Active      currency 1        -2712   \n",
              "785      408647       5715468        Active      currency 1         -313   \n",
              "\n",
              "     CREDIT_DAY_OVERDUE  DAYS_CREDIT_ENDDATE  DAYS_ENDDATE_FACT  \\\n",
              "365                2603            -2,498.00                NaN   \n",
              "785                   6               233.00                NaN   \n",
              "\n",
              "     AMT_CREDIT_MAX_OVERDUE  CNT_CREDIT_PROLONG  AMT_CREDIT_SUM  \\\n",
              "365                4,590.00                   0       24,696.00   \n",
              "785                     NaN                   0      417,208.50   \n",
              "\n",
              "     AMT_CREDIT_SUM_DEBT  AMT_CREDIT_SUM_LIMIT  AMT_CREDIT_SUM_OVERDUE  \\\n",
              "365               231.53                  0.00                  231.53   \n",
              "785           214,947.00                  0.00                  288.00   \n",
              "\n",
              "         CREDIT_TYPE  DAYS_CREDIT_UPDATE  AMT_ANNUITY  \n",
              "365  Consumer credit               -1077          NaN  \n",
              "785  Consumer credit                  -5          NaN  "
            ],
            "text/html": [
              "\n",
              "  <div id=\"df-8459baf8-6fe6-459d-8825-0d918cbd2eb0\">\n",
              "    <div class=\"colab-df-container\">\n",
              "      <div>\n",
              "<style scoped>\n",
              "    .dataframe tbody tr th:only-of-type {\n",
              "        vertical-align: middle;\n",
              "    }\n",
              "\n",
              "    .dataframe tbody tr th {\n",
              "        vertical-align: top;\n",
              "    }\n",
              "\n",
              "    .dataframe thead th {\n",
              "        text-align: right;\n",
              "    }\n",
              "</style>\n",
              "<table border=\"1\" class=\"dataframe\">\n",
              "  <thead>\n",
              "    <tr style=\"text-align: right;\">\n",
              "      <th></th>\n",
              "      <th>SK_ID_CURR</th>\n",
              "      <th>SK_ID_BUREAU</th>\n",
              "      <th>CREDIT_ACTIVE</th>\n",
              "      <th>CREDIT_CURRENCY</th>\n",
              "      <th>DAYS_CREDIT</th>\n",
              "      <th>CREDIT_DAY_OVERDUE</th>\n",
              "      <th>DAYS_CREDIT_ENDDATE</th>\n",
              "      <th>DAYS_ENDDATE_FACT</th>\n",
              "      <th>AMT_CREDIT_MAX_OVERDUE</th>\n",
              "      <th>CNT_CREDIT_PROLONG</th>\n",
              "      <th>AMT_CREDIT_SUM</th>\n",
              "      <th>AMT_CREDIT_SUM_DEBT</th>\n",
              "      <th>AMT_CREDIT_SUM_LIMIT</th>\n",
              "      <th>AMT_CREDIT_SUM_OVERDUE</th>\n",
              "      <th>CREDIT_TYPE</th>\n",
              "      <th>DAYS_CREDIT_UPDATE</th>\n",
              "      <th>AMT_ANNUITY</th>\n",
              "    </tr>\n",
              "  </thead>\n",
              "  <tbody>\n",
              "    <tr>\n",
              "      <th>365</th>\n",
              "      <td>282297</td>\n",
              "      <td>5714943</td>\n",
              "      <td>Active</td>\n",
              "      <td>currency 1</td>\n",
              "      <td>-2712</td>\n",
              "      <td>2603</td>\n",
              "      <td>-2,498.00</td>\n",
              "      <td>NaN</td>\n",
              "      <td>4,590.00</td>\n",
              "      <td>0</td>\n",
              "      <td>24,696.00</td>\n",
              "      <td>231.53</td>\n",
              "      <td>0.00</td>\n",
              "      <td>231.53</td>\n",
              "      <td>Consumer credit</td>\n",
              "      <td>-1077</td>\n",
              "      <td>NaN</td>\n",
              "    </tr>\n",
              "    <tr>\n",
              "      <th>785</th>\n",
              "      <td>408647</td>\n",
              "      <td>5715468</td>\n",
              "      <td>Active</td>\n",
              "      <td>currency 1</td>\n",
              "      <td>-313</td>\n",
              "      <td>6</td>\n",
              "      <td>233.00</td>\n",
              "      <td>NaN</td>\n",
              "      <td>NaN</td>\n",
              "      <td>0</td>\n",
              "      <td>417,208.50</td>\n",
              "      <td>214,947.00</td>\n",
              "      <td>0.00</td>\n",
              "      <td>288.00</td>\n",
              "      <td>Consumer credit</td>\n",
              "      <td>-5</td>\n",
              "      <td>NaN</td>\n",
              "    </tr>\n",
              "  </tbody>\n",
              "</table>\n",
              "</div>\n",
              "      <button class=\"colab-df-convert\" onclick=\"convertToInteractive('df-8459baf8-6fe6-459d-8825-0d918cbd2eb0')\"\n",
              "              title=\"Convert this dataframe to an interactive table.\"\n",
              "              style=\"display:none;\">\n",
              "        \n",
              "  <svg xmlns=\"http://www.w3.org/2000/svg\" height=\"24px\"viewBox=\"0 0 24 24\"\n",
              "       width=\"24px\">\n",
              "    <path d=\"M0 0h24v24H0V0z\" fill=\"none\"/>\n",
              "    <path d=\"M18.56 5.44l.94 2.06.94-2.06 2.06-.94-2.06-.94-.94-2.06-.94 2.06-2.06.94zm-11 1L8.5 8.5l.94-2.06 2.06-.94-2.06-.94L8.5 2.5l-.94 2.06-2.06.94zm10 10l.94 2.06.94-2.06 2.06-.94-2.06-.94-.94-2.06-.94 2.06-2.06.94z\"/><path d=\"M17.41 7.96l-1.37-1.37c-.4-.4-.92-.59-1.43-.59-.52 0-1.04.2-1.43.59L10.3 9.45l-7.72 7.72c-.78.78-.78 2.05 0 2.83L4 21.41c.39.39.9.59 1.41.59.51 0 1.02-.2 1.41-.59l7.78-7.78 2.81-2.81c.8-.78.8-2.07 0-2.86zM5.41 20L4 18.59l7.72-7.72 1.47 1.35L5.41 20z\"/>\n",
              "  </svg>\n",
              "      </button>\n",
              "      \n",
              "  <style>\n",
              "    .colab-df-container {\n",
              "      display:flex;\n",
              "      flex-wrap:wrap;\n",
              "      gap: 12px;\n",
              "    }\n",
              "\n",
              "    .colab-df-convert {\n",
              "      background-color: #E8F0FE;\n",
              "      border: none;\n",
              "      border-radius: 50%;\n",
              "      cursor: pointer;\n",
              "      display: none;\n",
              "      fill: #1967D2;\n",
              "      height: 32px;\n",
              "      padding: 0 0 0 0;\n",
              "      width: 32px;\n",
              "    }\n",
              "\n",
              "    .colab-df-convert:hover {\n",
              "      background-color: #E2EBFA;\n",
              "      box-shadow: 0px 1px 2px rgba(60, 64, 67, 0.3), 0px 1px 3px 1px rgba(60, 64, 67, 0.15);\n",
              "      fill: #174EA6;\n",
              "    }\n",
              "\n",
              "    [theme=dark] .colab-df-convert {\n",
              "      background-color: #3B4455;\n",
              "      fill: #D2E3FC;\n",
              "    }\n",
              "\n",
              "    [theme=dark] .colab-df-convert:hover {\n",
              "      background-color: #434B5C;\n",
              "      box-shadow: 0px 1px 3px 1px rgba(0, 0, 0, 0.15);\n",
              "      filter: drop-shadow(0px 1px 2px rgba(0, 0, 0, 0.3));\n",
              "      fill: #FFFFFF;\n",
              "    }\n",
              "  </style>\n",
              "\n",
              "      <script>\n",
              "        const buttonEl =\n",
              "          document.querySelector('#df-8459baf8-6fe6-459d-8825-0d918cbd2eb0 button.colab-df-convert');\n",
              "        buttonEl.style.display =\n",
              "          google.colab.kernel.accessAllowed ? 'block' : 'none';\n",
              "\n",
              "        async function convertToInteractive(key) {\n",
              "          const element = document.querySelector('#df-8459baf8-6fe6-459d-8825-0d918cbd2eb0');\n",
              "          const dataTable =\n",
              "            await google.colab.kernel.invokeFunction('convertToInteractive',\n",
              "                                                     [key], {});\n",
              "          if (!dataTable) return;\n",
              "\n",
              "          const docLinkHtml = 'Like what you see? Visit the ' +\n",
              "            '<a target=\"_blank\" href=https://colab.research.google.com/notebooks/data_table.ipynb>data table notebook</a>'\n",
              "            + ' to learn more about interactive tables.';\n",
              "          element.innerHTML = '';\n",
              "          dataTable['output_type'] = 'display_data';\n",
              "          await google.colab.output.renderOutput(dataTable, element);\n",
              "          const docLink = document.createElement('div');\n",
              "          docLink.innerHTML = docLinkHtml;\n",
              "          element.appendChild(docLink);\n",
              "        }\n",
              "      </script>\n",
              "    </div>\n",
              "  </div>\n",
              "  "
            ]
          },
          "metadata": {},
          "execution_count": 27
        }
      ]
    },
    {
      "cell_type": "code",
      "source": [
        "bur_data['DAYS_CREDIT_UPDATE'].value_counts()"
      ],
      "metadata": {
        "colab": {
          "base_uri": "https://localhost:8080/"
        },
        "id": "FaRStuEjAjMG",
        "outputId": "1c273c99-8c16-4f85-f984-817d7239c192"
      },
      "execution_count": 42,
      "outputs": [
        {
          "output_type": "execute_result",
          "data": {
            "text/plain": [
              "-7        18503\n",
              "-8        18462\n",
              "-11       16975\n",
              "-15       16870\n",
              "-12       16827\n",
              "          ...  \n",
              "-41856        1\n",
              "-41940        1\n",
              "-2894         1\n",
              "-2913         1\n",
              "-2844         1\n",
              "Name: DAYS_CREDIT_UPDATE, Length: 2982, dtype: int64"
            ]
          },
          "metadata": {},
          "execution_count": 42
        }
      ]
    },
    {
      "cell_type": "code",
      "source": [
        "from pandas.core.dtypes.cast import Sized\n",
        "#bur_data1 = bur_data[bur_data['SK_ID_CURR']==282297]\n",
        "\n",
        "Summary_data = bur_data.groupby('SK_ID_CURR', as_index=False).agg(\n",
        "    BUR_CNT = (\"SK_ID_BUREAU\",\"count\")\n",
        "    , BUR_ACTIVE_CNT = (\"CREDIT_ACTIVE\", lambda x: sum(x=='Active'))\n",
        "    , BUR_SOLD_CNT = (\"CREDIT_ACTIVE\", lambda x: sum(x=='Sold'))\n",
        "    , BUR_BAD_DEPT_CNT = (\"CREDIT_ACTIVE\", lambda x: sum(x=='Bad debt'))\n",
        "    , BUR_CUR_USED = (\"CREDIT_CURRENCY\",\"nunique\")\n",
        "    , BUR_CRD_TYPES = (\"CREDIT_TYPE\",\"nunique\")\n",
        "    , BUR_CRD_TYPES_OTHR=(\"CREDIT_TYPE\", lambda x: sum(x.isin(['Consumer credit', 'Credit card'\n",
        "                                                  , 'Car loan', 'Mortgage']) == False))\n",
        "    , BUR_DAYS_CRD_VAR = (\"DAYS_CREDIT\", lambda x:max(x) - min(x))\n",
        "    , BUR_DAYS_CRD_MIN = (\"DAYS_CREDIT\", \"max\")\n",
        "    , BUR_OD_DAY_CNT = (\"CREDIT_DAY_OVERDUE\", lambda x:sum(x>0))\n",
        "    , BUR_OD_DAY_VAR = (\"CREDIT_DAY_OVERDUE\", lambda x:max(x) - min(x))\n",
        "    , BUR_OD_DAY_MIN = (\"CREDIT_DAY_OVERDUE\", \"min\")\n",
        "    , BUR_DAYS_CRD_ED_CNT1 = (\"DAYS_CREDIT_ENDDATE\", lambda x:sum(x>0))\n",
        "    , BUR_DAYS_CRD_ED_CNT2 = (\"DAYS_CREDIT_ENDDATE\", lambda x:sum(x<0))\n",
        "    , BUR_DAYS_ED_FACT_CNT = (\"DAYS_ENDDATE_FACT\", lambda x:sum(x>0))\n",
        "    , BUR_DAYS_ED_FACT_VAR = (\"DAYS_ENDDATE_FACT\", lambda x:max(x) - min(x))\n",
        "    , BUR_OD_AMT_MAX_CNT = (\"AMT_CREDIT_MAX_OVERDUE\", lambda x:sum(x>0))\n",
        "    , BUR_OD_AMT_MAX_VAR = (\"AMT_CREDIT_MAX_OVERDUE\", lambda x:max(x) - min(x))\n",
        "    , BUR_CRD_PRO_CNT = (\"CNT_CREDIT_PROLONG\", lambda x:sum(x>0))\n",
        "    , BUR_CRD_PRO_VAR = (\"CNT_CREDIT_PROLONG\", lambda x:max(x) - min(x))\n",
        "    , BUR_CRD_AMT_VAR = (\"AMT_CREDIT_SUM\", lambda x:max(x) - min(x))\n",
        "    , BUR_CRD_DBT_CNT = (\"AMT_CREDIT_SUM_DEBT\", lambda x:sum(x>0))\n",
        "    , BUR_CRD_DBT_MAX = (\"AMT_CREDIT_SUM_DEBT\", \"max\")\n",
        "    , BUR_CRD_LMT_CNT = (\"AMT_CREDIT_SUM_LIMIT\", lambda x:sum(x>0))\n",
        "    , BUR_CRD_LMT_MAX = (\"AMT_CREDIT_SUM_LIMIT\", \"max\")\n",
        "    , BUR_OD_AMT_SUM_CNT = (\"AMT_CREDIT_SUM_OVERDUE\", lambda x:sum(x>0))\n",
        "    , BUR_OD_AMT_SUM_VAR = (\"AMT_CREDIT_SUM_OVERDUE\", lambda x:max(x) - min(x))\n",
        "    , BUR_DAYS_CRD_UPDT_VAR = (\"DAYS_CREDIT_UPDATE\", lambda x:max(x) - min(x))\n",
        "    , BUR_DAYS_CRD_UPDT_MIN = (\"DAYS_CREDIT_UPDATE\", \"max\")\n",
        "    , BUR_ANNUITY_VAR = (\"AMT_CREDIT_SUM_DEBT\", lambda x:max(x) - min(x))\n",
        ")\n",
        "Summary_data.shape"
      ],
      "metadata": {
        "colab": {
          "base_uri": "https://localhost:8080/"
        },
        "id": "UVa-i6SKBoL3",
        "outputId": "92dad5e4-0df1-46b5-caff-5cafdfa860b4"
      },
      "execution_count": 59,
      "outputs": [
        {
          "output_type": "execute_result",
          "data": {
            "text/plain": [
              "(305811, 31)"
            ]
          },
          "metadata": {},
          "execution_count": 59
        }
      ]
    },
    {
      "cell_type": "code",
      "source": [
        "Summary_data[Summary_data['BUR_OD_AMT_SUM_VAR']>0][['BUR_CRD_AMT_VAR','BUR_CRD_DBT_MAX','BUR_CRD_LMT_MAX','BUR_OD_AMT_SUM_VAR','BUR_OD_AMT_MAX_VAR']]"
      ],
      "metadata": {
        "colab": {
          "base_uri": "https://localhost:8080/",
          "height": 423
        },
        "id": "9J7yLQ3RIgKN",
        "outputId": "2540fbce-3c93-488c-fcd3-54a3051d4e0e"
      },
      "execution_count": 63,
      "outputs": [
        {
          "output_type": "execute_result",
          "data": {
            "text/plain": [
              "        BUR_CRD_AMT_VAR  BUR_CRD_DBT_MAX  BUR_CRD_LMT_MAX  BUR_OD_AMT_SUM_VAR  \\\n",
              "103          143,910.00       108,837.00             0.00              166.50   \n",
              "139          961,384.50       850,653.00             0.00               13.50   \n",
              "298          287,874.54       204,894.00             0.00              459.00   \n",
              "306          886,500.00       430,722.00             0.00           19,359.00   \n",
              "475          166,500.00       175,464.00             0.00              360.00   \n",
              "...                 ...              ...              ...                 ...   \n",
              "305464     1,398,496.50       937,233.00        50,700.64              522.00   \n",
              "305470       844,024.50       584,181.00             0.00              477.00   \n",
              "305580        33,997.50             0.00             0.00                9.00   \n",
              "305687       112,500.00        69,404.67             0.00               13.50   \n",
              "305789       219,001.50       120,879.00             0.00              211.50   \n",
              "\n",
              "        BUR_OD_AMT_MAX_VAR  \n",
              "103                    NaN  \n",
              "139              16,320.51  \n",
              "298              29,654.01  \n",
              "306                    NaN  \n",
              "475                    NaN  \n",
              "...                    ...  \n",
              "305464            5,490.00  \n",
              "305470                 NaN  \n",
              "305580                 NaN  \n",
              "305687                 NaN  \n",
              "305789                 NaN  \n",
              "\n",
              "[3643 rows x 5 columns]"
            ],
            "text/html": [
              "\n",
              "  <div id=\"df-1cae9089-560d-4a6f-b1a4-cc578ef37a53\">\n",
              "    <div class=\"colab-df-container\">\n",
              "      <div>\n",
              "<style scoped>\n",
              "    .dataframe tbody tr th:only-of-type {\n",
              "        vertical-align: middle;\n",
              "    }\n",
              "\n",
              "    .dataframe tbody tr th {\n",
              "        vertical-align: top;\n",
              "    }\n",
              "\n",
              "    .dataframe thead th {\n",
              "        text-align: right;\n",
              "    }\n",
              "</style>\n",
              "<table border=\"1\" class=\"dataframe\">\n",
              "  <thead>\n",
              "    <tr style=\"text-align: right;\">\n",
              "      <th></th>\n",
              "      <th>BUR_CRD_AMT_VAR</th>\n",
              "      <th>BUR_CRD_DBT_MAX</th>\n",
              "      <th>BUR_CRD_LMT_MAX</th>\n",
              "      <th>BUR_OD_AMT_SUM_VAR</th>\n",
              "      <th>BUR_OD_AMT_MAX_VAR</th>\n",
              "    </tr>\n",
              "  </thead>\n",
              "  <tbody>\n",
              "    <tr>\n",
              "      <th>103</th>\n",
              "      <td>143,910.00</td>\n",
              "      <td>108,837.00</td>\n",
              "      <td>0.00</td>\n",
              "      <td>166.50</td>\n",
              "      <td>NaN</td>\n",
              "    </tr>\n",
              "    <tr>\n",
              "      <th>139</th>\n",
              "      <td>961,384.50</td>\n",
              "      <td>850,653.00</td>\n",
              "      <td>0.00</td>\n",
              "      <td>13.50</td>\n",
              "      <td>16,320.51</td>\n",
              "    </tr>\n",
              "    <tr>\n",
              "      <th>298</th>\n",
              "      <td>287,874.54</td>\n",
              "      <td>204,894.00</td>\n",
              "      <td>0.00</td>\n",
              "      <td>459.00</td>\n",
              "      <td>29,654.01</td>\n",
              "    </tr>\n",
              "    <tr>\n",
              "      <th>306</th>\n",
              "      <td>886,500.00</td>\n",
              "      <td>430,722.00</td>\n",
              "      <td>0.00</td>\n",
              "      <td>19,359.00</td>\n",
              "      <td>NaN</td>\n",
              "    </tr>\n",
              "    <tr>\n",
              "      <th>475</th>\n",
              "      <td>166,500.00</td>\n",
              "      <td>175,464.00</td>\n",
              "      <td>0.00</td>\n",
              "      <td>360.00</td>\n",
              "      <td>NaN</td>\n",
              "    </tr>\n",
              "    <tr>\n",
              "      <th>...</th>\n",
              "      <td>...</td>\n",
              "      <td>...</td>\n",
              "      <td>...</td>\n",
              "      <td>...</td>\n",
              "      <td>...</td>\n",
              "    </tr>\n",
              "    <tr>\n",
              "      <th>305464</th>\n",
              "      <td>1,398,496.50</td>\n",
              "      <td>937,233.00</td>\n",
              "      <td>50,700.64</td>\n",
              "      <td>522.00</td>\n",
              "      <td>5,490.00</td>\n",
              "    </tr>\n",
              "    <tr>\n",
              "      <th>305470</th>\n",
              "      <td>844,024.50</td>\n",
              "      <td>584,181.00</td>\n",
              "      <td>0.00</td>\n",
              "      <td>477.00</td>\n",
              "      <td>NaN</td>\n",
              "    </tr>\n",
              "    <tr>\n",
              "      <th>305580</th>\n",
              "      <td>33,997.50</td>\n",
              "      <td>0.00</td>\n",
              "      <td>0.00</td>\n",
              "      <td>9.00</td>\n",
              "      <td>NaN</td>\n",
              "    </tr>\n",
              "    <tr>\n",
              "      <th>305687</th>\n",
              "      <td>112,500.00</td>\n",
              "      <td>69,404.67</td>\n",
              "      <td>0.00</td>\n",
              "      <td>13.50</td>\n",
              "      <td>NaN</td>\n",
              "    </tr>\n",
              "    <tr>\n",
              "      <th>305789</th>\n",
              "      <td>219,001.50</td>\n",
              "      <td>120,879.00</td>\n",
              "      <td>0.00</td>\n",
              "      <td>211.50</td>\n",
              "      <td>NaN</td>\n",
              "    </tr>\n",
              "  </tbody>\n",
              "</table>\n",
              "<p>3643 rows × 5 columns</p>\n",
              "</div>\n",
              "      <button class=\"colab-df-convert\" onclick=\"convertToInteractive('df-1cae9089-560d-4a6f-b1a4-cc578ef37a53')\"\n",
              "              title=\"Convert this dataframe to an interactive table.\"\n",
              "              style=\"display:none;\">\n",
              "        \n",
              "  <svg xmlns=\"http://www.w3.org/2000/svg\" height=\"24px\"viewBox=\"0 0 24 24\"\n",
              "       width=\"24px\">\n",
              "    <path d=\"M0 0h24v24H0V0z\" fill=\"none\"/>\n",
              "    <path d=\"M18.56 5.44l.94 2.06.94-2.06 2.06-.94-2.06-.94-.94-2.06-.94 2.06-2.06.94zm-11 1L8.5 8.5l.94-2.06 2.06-.94-2.06-.94L8.5 2.5l-.94 2.06-2.06.94zm10 10l.94 2.06.94-2.06 2.06-.94-2.06-.94-.94-2.06-.94 2.06-2.06.94z\"/><path d=\"M17.41 7.96l-1.37-1.37c-.4-.4-.92-.59-1.43-.59-.52 0-1.04.2-1.43.59L10.3 9.45l-7.72 7.72c-.78.78-.78 2.05 0 2.83L4 21.41c.39.39.9.59 1.41.59.51 0 1.02-.2 1.41-.59l7.78-7.78 2.81-2.81c.8-.78.8-2.07 0-2.86zM5.41 20L4 18.59l7.72-7.72 1.47 1.35L5.41 20z\"/>\n",
              "  </svg>\n",
              "      </button>\n",
              "      \n",
              "  <style>\n",
              "    .colab-df-container {\n",
              "      display:flex;\n",
              "      flex-wrap:wrap;\n",
              "      gap: 12px;\n",
              "    }\n",
              "\n",
              "    .colab-df-convert {\n",
              "      background-color: #E8F0FE;\n",
              "      border: none;\n",
              "      border-radius: 50%;\n",
              "      cursor: pointer;\n",
              "      display: none;\n",
              "      fill: #1967D2;\n",
              "      height: 32px;\n",
              "      padding: 0 0 0 0;\n",
              "      width: 32px;\n",
              "    }\n",
              "\n",
              "    .colab-df-convert:hover {\n",
              "      background-color: #E2EBFA;\n",
              "      box-shadow: 0px 1px 2px rgba(60, 64, 67, 0.3), 0px 1px 3px 1px rgba(60, 64, 67, 0.15);\n",
              "      fill: #174EA6;\n",
              "    }\n",
              "\n",
              "    [theme=dark] .colab-df-convert {\n",
              "      background-color: #3B4455;\n",
              "      fill: #D2E3FC;\n",
              "    }\n",
              "\n",
              "    [theme=dark] .colab-df-convert:hover {\n",
              "      background-color: #434B5C;\n",
              "      box-shadow: 0px 1px 3px 1px rgba(0, 0, 0, 0.15);\n",
              "      filter: drop-shadow(0px 1px 2px rgba(0, 0, 0, 0.3));\n",
              "      fill: #FFFFFF;\n",
              "    }\n",
              "  </style>\n",
              "\n",
              "      <script>\n",
              "        const buttonEl =\n",
              "          document.querySelector('#df-1cae9089-560d-4a6f-b1a4-cc578ef37a53 button.colab-df-convert');\n",
              "        buttonEl.style.display =\n",
              "          google.colab.kernel.accessAllowed ? 'block' : 'none';\n",
              "\n",
              "        async function convertToInteractive(key) {\n",
              "          const element = document.querySelector('#df-1cae9089-560d-4a6f-b1a4-cc578ef37a53');\n",
              "          const dataTable =\n",
              "            await google.colab.kernel.invokeFunction('convertToInteractive',\n",
              "                                                     [key], {});\n",
              "          if (!dataTable) return;\n",
              "\n",
              "          const docLinkHtml = 'Like what you see? Visit the ' +\n",
              "            '<a target=\"_blank\" href=https://colab.research.google.com/notebooks/data_table.ipynb>data table notebook</a>'\n",
              "            + ' to learn more about interactive tables.';\n",
              "          element.innerHTML = '';\n",
              "          dataTable['output_type'] = 'display_data';\n",
              "          await google.colab.output.renderOutput(dataTable, element);\n",
              "          const docLink = document.createElement('div');\n",
              "          docLink.innerHTML = docLinkHtml;\n",
              "          element.appendChild(docLink);\n",
              "        }\n",
              "      </script>\n",
              "    </div>\n",
              "  </div>\n",
              "  "
            ]
          },
          "metadata": {},
          "execution_count": 63
        }
      ]
    },
    {
      "cell_type": "code",
      "source": [
        "Summary_data['BUR_MAX_OD_PER_OD'] = Summary_data['BUR_OD_AMT_MAX_VAR']/Summary_data['BUR_OD_AMT_SUM_VAR']\n",
        "#Summary_data['RTO2'] = Summary_data['BUR_CRD_LMT_MAX']/Summary_data['BUR_CRD_DBT_MAX']"
      ],
      "metadata": {
        "id": "d_PhkYrxS4y3"
      },
      "execution_count": 80,
      "outputs": []
    },
    {
      "cell_type": "code",
      "source": [
        "combined_data=app_data[['SK_ID_CURR','TARGET']].join(Summary_data,on='SK_ID_CURR',lsuffix='_APP', rsuffix='_BUR')\n",
        "combined_data.shape"
      ],
      "metadata": {
        "colab": {
          "base_uri": "https://localhost:8080/"
        },
        "id": "7BWgE7ctMC7S",
        "outputId": "68b3c381-efb8-4961-c429-fa9d03106139"
      },
      "execution_count": 86,
      "outputs": [
        {
          "output_type": "execute_result",
          "data": {
            "text/plain": [
              "(307511, 34)"
            ]
          },
          "metadata": {},
          "execution_count": 86
        }
      ]
    },
    {
      "cell_type": "code",
      "source": [
        "combined_data.info(verbose=True, show_counts=True)"
      ],
      "metadata": {
        "colab": {
          "base_uri": "https://localhost:8080/"
        },
        "id": "YRdWQ48WQe9z",
        "outputId": "5e2504de-44fd-4378-dd86-43e58839d713"
      },
      "execution_count": 87,
      "outputs": [
        {
          "output_type": "stream",
          "name": "stdout",
          "text": [
            "<class 'pandas.core.frame.DataFrame'>\n",
            "RangeIndex: 307511 entries, 0 to 307510\n",
            "Data columns (total 34 columns):\n",
            " #   Column                 Non-Null Count   Dtype  \n",
            "---  ------                 --------------   -----  \n",
            " 0   SK_ID_CURR_APP         307511 non-null  int64  \n",
            " 1   TARGET                 307511 non-null  int64  \n",
            " 2   SK_ID_CURR_BUR         177604 non-null  float64\n",
            " 3   BUR_CNT                177604 non-null  float64\n",
            " 4   BUR_ACTIVE_CNT         177604 non-null  float64\n",
            " 5   BUR_SOLD_CNT           177604 non-null  float64\n",
            " 6   BUR_BAD_DEPT_CNT       177604 non-null  float64\n",
            " 7   BUR_CUR_USED           177604 non-null  float64\n",
            " 8   BUR_CRD_TYPES          177604 non-null  float64\n",
            " 9   BUR_CRD_TYPES_OTHR     177604 non-null  float64\n",
            " 10  BUR_DAYS_CRD_VAR       177604 non-null  float64\n",
            " 11  BUR_DAYS_CRD_MIN       177604 non-null  float64\n",
            " 12  BUR_OD_DAY_CNT         177604 non-null  float64\n",
            " 13  BUR_OD_DAY_VAR         177604 non-null  float64\n",
            " 14  BUR_OD_DAY_MIN         177604 non-null  float64\n",
            " 15  BUR_DAYS_CRD_ED_CNT1   177604 non-null  float64\n",
            " 16  BUR_DAYS_CRD_ED_CNT2   177604 non-null  float64\n",
            " 17  BUR_DAYS_ED_FACT_CNT   177604 non-null  float64\n",
            " 18  BUR_DAYS_ED_FACT_VAR   120733 non-null  float64\n",
            " 19  BUR_OD_AMT_MAX_CNT     177604 non-null  float64\n",
            " 20  BUR_OD_AMT_MAX_VAR     39746 non-null   float64\n",
            " 21  BUR_CRD_PRO_CNT        177604 non-null  float64\n",
            " 22  BUR_CRD_PRO_VAR        177604 non-null  float64\n",
            " 23  BUR_CRD_AMT_VAR        177603 non-null  float64\n",
            " 24  BUR_CRD_DBT_CNT        177604 non-null  float64\n",
            " 25  BUR_CRD_DBT_MAX        172710 non-null  float64\n",
            " 26  BUR_CRD_LMT_CNT        177604 non-null  float64\n",
            " 27  BUR_CRD_LMT_MAX        163051 non-null  float64\n",
            " 28  BUR_OD_AMT_SUM_CNT     177604 non-null  float64\n",
            " 29  BUR_OD_AMT_SUM_VAR     177604 non-null  float64\n",
            " 30  BUR_DAYS_CRD_UPDT_VAR  177604 non-null  float64\n",
            " 31  BUR_DAYS_CRD_UPDT_MIN  177604 non-null  float64\n",
            " 32  BUR_ANNUITY_VAR        163089 non-null  float64\n",
            " 33  BUR_MAX_OD_PER_OD      15309 non-null   float64\n",
            "dtypes: float64(32), int64(2)\n",
            "memory usage: 79.8 MB\n"
          ]
        }
      ]
    },
    {
      "cell_type": "code",
      "source": [
        "# correlation with Target - target value\n",
        "corr_features = pd.DataFrame()\n",
        "corr_features['FI'] = combined_data.corr()['TARGET']\n",
        "corr_features['FI_MOD']  = corr_features['FI'].abs()\n",
        "print(corr_features.sort_values(by='FI_MOD',ascending=False).head(50)) \n",
        "#corr_features.style.background_gradient(cmap='viridis')"
      ],
      "metadata": {
        "colab": {
          "base_uri": "https://localhost:8080/"
        },
        "id": "ISJ6hERGQx1q",
        "outputId": "a44c9525-0e27-47e3-d2b8-6f57ba7705bd"
      },
      "execution_count": 88,
      "outputs": [
        {
          "output_type": "stream",
          "name": "stdout",
          "text": [
            "                         FI  FI_MOD\n",
            "TARGET                 1.00    1.00\n",
            "BUR_MAX_OD_PER_OD     -0.03    0.03\n",
            "BUR_DAYS_CRD_UPDT_VAR -0.01    0.01\n",
            "BUR_DAYS_CRD_VAR      -0.01    0.01\n",
            "BUR_DAYS_CRD_MIN      -0.01    0.01\n",
            "BUR_DAYS_CRD_ED_CNT1  -0.01    0.01\n",
            "BUR_DAYS_CRD_UPDT_MIN -0.01    0.01\n",
            "BUR_CNT               -0.01    0.01\n",
            "BUR_ACTIVE_CNT        -0.01    0.01\n",
            "BUR_CRD_LMT_CNT       -0.01    0.01\n",
            "BUR_CRD_AMT_VAR       -0.01    0.01\n",
            "BUR_CRD_DBT_MAX       -0.01    0.01\n",
            "BUR_ANNUITY_VAR       -0.00    0.00\n",
            "BUR_DAYS_ED_FACT_VAR  -0.00    0.00\n",
            "BUR_CRD_DBT_CNT       -0.00    0.00\n",
            "BUR_CRD_TYPES         -0.00    0.00\n",
            "BUR_OD_DAY_CNT         0.00    0.00\n",
            "BUR_DAYS_CRD_ED_CNT2  -0.00    0.00\n",
            "BUR_SOLD_CNT          -0.00    0.00\n",
            "BUR_OD_AMT_MAX_CNT    -0.00    0.00\n",
            "BUR_OD_AMT_SUM_VAR    -0.00    0.00\n",
            "BUR_OD_AMT_SUM_CNT     0.00    0.00\n",
            "BUR_OD_AMT_MAX_VAR    -0.00    0.00\n",
            "BUR_CRD_PRO_VAR        0.00    0.00\n",
            "BUR_OD_DAY_VAR         0.00    0.00\n",
            "BUR_CRD_LMT_MAX       -0.00    0.00\n",
            "SK_ID_CURR_APP        -0.00    0.00\n",
            "BUR_OD_DAY_MIN        -0.00    0.00\n",
            "BUR_CRD_PRO_CNT        0.00    0.00\n",
            "SK_ID_CURR_BUR         0.00    0.00\n",
            "BUR_CUR_USED          -0.00    0.00\n",
            "BUR_CRD_TYPES_OTHR    -0.00    0.00\n",
            "BUR_BAD_DEPT_CNT      -0.00    0.00\n",
            "BUR_DAYS_ED_FACT_CNT    NaN     NaN\n"
          ]
        }
      ]
    }
  ]
}