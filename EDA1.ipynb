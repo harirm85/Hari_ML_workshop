{
  "nbformat": 4,
  "nbformat_minor": 0,
  "metadata": {
    "colab": {
      "provenance": [],
      "authorship_tag": "ABX9TyOzgA0jKBLtz0RLofGu/5oG",
      "include_colab_link": true
    },
    "kernelspec": {
      "name": "python3",
      "display_name": "Python 3"
    },
    "language_info": {
      "name": "python"
    }
  },
  "cells": [
    {
      "cell_type": "markdown",
      "metadata": {
        "id": "view-in-github",
        "colab_type": "text"
      },
      "source": [
        "<a href=\"https://colab.research.google.com/github/harirm85/Hari_ML_workshop/blob/main/EDA1.ipynb\" target=\"_parent\"><img src=\"https://colab.research.google.com/assets/colab-badge.svg\" alt=\"Open In Colab\"/></a>"
      ]
    },
    {
      "cell_type": "code",
      "execution_count": 1,
      "metadata": {
        "id": "FXcdMFkp65nI"
      },
      "outputs": [],
      "source": [
        "import numpy as np\n",
        "import pandas as pd\n",
        "import matplotlib.pyplot as plt\n",
        "import seaborn as sns\n",
        "\n",
        "pd.options.display.float_format = '{:,.2f}'.format"
      ]
    },
    {
      "cell_type": "code",
      "source": [
        "# Connect to Google Drive\n",
        "from google.colab import drive\n",
        "drive.mount('/content/drive')\n",
        "\n",
        "# Copy the Jason file and set security\n",
        "!mkdir -p ~/.kaggle\n",
        "!cp '/content/drive/MyDrive/Kaggle/kaggle.json' ~/.kaggle/kaggle.json\n",
        "!chmod 600 ~/.kaggle/kaggle.json\n",
        "\n",
        "#Download data\n",
        "!kaggle competitions download -c home-credit-default-risk\n",
        "\n",
        "import zipfile\n",
        "\n",
        "# Specify the path to the downloaded zip file\n",
        "zip_path = \"/content/home-credit-default-risk.zip\"\n",
        "\n",
        "# Specify the directory to extract the files to\n",
        "extract_path = \"/content/home-credit-default-risk\"\n",
        "\n",
        "# Extract the zip file\n",
        "with zipfile.ZipFile(zip_path, 'r') as zip_ref:\n",
        "    zip_ref.extractall(extract_path)"
      ],
      "metadata": {
        "colab": {
          "base_uri": "https://localhost:8080/"
        },
        "id": "wreT0nVp7EHF",
        "outputId": "ee0bbe20-2601-4d64-b1a0-34f6f7eb8791"
      },
      "execution_count": 2,
      "outputs": [
        {
          "output_type": "stream",
          "name": "stdout",
          "text": [
            "Mounted at /content/drive\n",
            "Downloading home-credit-default-risk.zip to /content\n",
            " 98% 671M/688M [00:08<00:00, 83.6MB/s]\n",
            "100% 688M/688M [00:08<00:00, 84.6MB/s]\n"
          ]
        }
      ]
    },
    {
      "cell_type": "code",
      "source": [
        "#Take app train data and load to DF\n",
        "app_data = pd.read_csv('/content/home-credit-default-risk/application_train.csv')\n",
        "bur_data = pd.read_csv('/content/home-credit-default-risk/bureau.csv')\n",
        "\n",
        "print(bur_data.shape)"
      ],
      "metadata": {
        "colab": {
          "base_uri": "https://localhost:8080/"
        },
        "id": "wkcGuIMZ7c0i",
        "outputId": "bd8c77aa-37e5-4c41-a606-9ded3993384c"
      },
      "execution_count": 3,
      "outputs": [
        {
          "output_type": "stream",
          "name": "stdout",
          "text": [
            "(1716428, 17)\n"
          ]
        }
      ]
    },
    {
      "cell_type": "code",
      "source": [
        "bur_data.info(verbose=True, show_counts=True)"
      ],
      "metadata": {
        "colab": {
          "base_uri": "https://localhost:8080/"
        },
        "id": "WCRy2U6k77I6",
        "outputId": "3f985bb9-d0df-4a6c-9d45-d551edd6aa36"
      },
      "execution_count": 4,
      "outputs": [
        {
          "output_type": "stream",
          "name": "stdout",
          "text": [
            "<class 'pandas.core.frame.DataFrame'>\n",
            "RangeIndex: 1716428 entries, 0 to 1716427\n",
            "Data columns (total 17 columns):\n",
            " #   Column                  Non-Null Count    Dtype  \n",
            "---  ------                  --------------    -----  \n",
            " 0   SK_ID_CURR              1716428 non-null  int64  \n",
            " 1   SK_ID_BUREAU            1716428 non-null  int64  \n",
            " 2   CREDIT_ACTIVE           1716428 non-null  object \n",
            " 3   CREDIT_CURRENCY         1716428 non-null  object \n",
            " 4   DAYS_CREDIT             1716428 non-null  int64  \n",
            " 5   CREDIT_DAY_OVERDUE      1716428 non-null  int64  \n",
            " 6   DAYS_CREDIT_ENDDATE     1610875 non-null  float64\n",
            " 7   DAYS_ENDDATE_FACT       1082775 non-null  float64\n",
            " 8   AMT_CREDIT_MAX_OVERDUE  591940 non-null   float64\n",
            " 9   CNT_CREDIT_PROLONG      1716428 non-null  int64  \n",
            " 10  AMT_CREDIT_SUM          1716415 non-null  float64\n",
            " 11  AMT_CREDIT_SUM_DEBT     1458759 non-null  float64\n",
            " 12  AMT_CREDIT_SUM_LIMIT    1124648 non-null  float64\n",
            " 13  AMT_CREDIT_SUM_OVERDUE  1716428 non-null  float64\n",
            " 14  CREDIT_TYPE             1716428 non-null  object \n",
            " 15  DAYS_CREDIT_UPDATE      1716428 non-null  int64  \n",
            " 16  AMT_ANNUITY             489637 non-null   float64\n",
            "dtypes: float64(8), int64(6), object(3)\n",
            "memory usage: 222.6+ MB\n"
          ]
        }
      ]
    },
    {
      "cell_type": "code",
      "source": [
        "bur_data[bur_data['AMT_CREDIT_SUM_OVERDUE']>0].head(2)"
      ],
      "metadata": {
        "colab": {
          "base_uri": "https://localhost:8080/",
          "height": 211
        },
        "id": "vfn9z02R8j6G",
        "outputId": "59c81d74-930a-4c40-fef3-86f300ed830a"
      },
      "execution_count": 27,
      "outputs": [
        {
          "output_type": "execute_result",
          "data": {
            "text/plain": [
              "     SK_ID_CURR  SK_ID_BUREAU CREDIT_ACTIVE CREDIT_CURRENCY  DAYS_CREDIT  \\\n",
              "365      282297       5714943        Active      currency 1        -2712   \n",
              "785      408647       5715468        Active      currency 1         -313   \n",
              "\n",
              "     CREDIT_DAY_OVERDUE  DAYS_CREDIT_ENDDATE  DAYS_ENDDATE_FACT  \\\n",
              "365                2603            -2,498.00                NaN   \n",
              "785                   6               233.00                NaN   \n",
              "\n",
              "     AMT_CREDIT_MAX_OVERDUE  CNT_CREDIT_PROLONG  AMT_CREDIT_SUM  \\\n",
              "365                4,590.00                   0       24,696.00   \n",
              "785                     NaN                   0      417,208.50   \n",
              "\n",
              "     AMT_CREDIT_SUM_DEBT  AMT_CREDIT_SUM_LIMIT  AMT_CREDIT_SUM_OVERDUE  \\\n",
              "365               231.53                  0.00                  231.53   \n",
              "785           214,947.00                  0.00                  288.00   \n",
              "\n",
              "         CREDIT_TYPE  DAYS_CREDIT_UPDATE  AMT_ANNUITY  \n",
              "365  Consumer credit               -1077          NaN  \n",
              "785  Consumer credit                  -5          NaN  "
            ],
            "text/html": [
              "\n",
              "  <div id=\"df-8459baf8-6fe6-459d-8825-0d918cbd2eb0\">\n",
              "    <div class=\"colab-df-container\">\n",
              "      <div>\n",
              "<style scoped>\n",
              "    .dataframe tbody tr th:only-of-type {\n",
              "        vertical-align: middle;\n",
              "    }\n",
              "\n",
              "    .dataframe tbody tr th {\n",
              "        vertical-align: top;\n",
              "    }\n",
              "\n",
              "    .dataframe thead th {\n",
              "        text-align: right;\n",
              "    }\n",
              "</style>\n",
              "<table border=\"1\" class=\"dataframe\">\n",
              "  <thead>\n",
              "    <tr style=\"text-align: right;\">\n",
              "      <th></th>\n",
              "      <th>SK_ID_CURR</th>\n",
              "      <th>SK_ID_BUREAU</th>\n",
              "      <th>CREDIT_ACTIVE</th>\n",
              "      <th>CREDIT_CURRENCY</th>\n",
              "      <th>DAYS_CREDIT</th>\n",
              "      <th>CREDIT_DAY_OVERDUE</th>\n",
              "      <th>DAYS_CREDIT_ENDDATE</th>\n",
              "      <th>DAYS_ENDDATE_FACT</th>\n",
              "      <th>AMT_CREDIT_MAX_OVERDUE</th>\n",
              "      <th>CNT_CREDIT_PROLONG</th>\n",
              "      <th>AMT_CREDIT_SUM</th>\n",
              "      <th>AMT_CREDIT_SUM_DEBT</th>\n",
              "      <th>AMT_CREDIT_SUM_LIMIT</th>\n",
              "      <th>AMT_CREDIT_SUM_OVERDUE</th>\n",
              "      <th>CREDIT_TYPE</th>\n",
              "      <th>DAYS_CREDIT_UPDATE</th>\n",
              "      <th>AMT_ANNUITY</th>\n",
              "    </tr>\n",
              "  </thead>\n",
              "  <tbody>\n",
              "    <tr>\n",
              "      <th>365</th>\n",
              "      <td>282297</td>\n",
              "      <td>5714943</td>\n",
              "      <td>Active</td>\n",
              "      <td>currency 1</td>\n",
              "      <td>-2712</td>\n",
              "      <td>2603</td>\n",
              "      <td>-2,498.00</td>\n",
              "      <td>NaN</td>\n",
              "      <td>4,590.00</td>\n",
              "      <td>0</td>\n",
              "      <td>24,696.00</td>\n",
              "      <td>231.53</td>\n",
              "      <td>0.00</td>\n",
              "      <td>231.53</td>\n",
              "      <td>Consumer credit</td>\n",
              "      <td>-1077</td>\n",
              "      <td>NaN</td>\n",
              "    </tr>\n",
              "    <tr>\n",
              "      <th>785</th>\n",
              "      <td>408647</td>\n",
              "      <td>5715468</td>\n",
              "      <td>Active</td>\n",
              "      <td>currency 1</td>\n",
              "      <td>-313</td>\n",
              "      <td>6</td>\n",
              "      <td>233.00</td>\n",
              "      <td>NaN</td>\n",
              "      <td>NaN</td>\n",
              "      <td>0</td>\n",
              "      <td>417,208.50</td>\n",
              "      <td>214,947.00</td>\n",
              "      <td>0.00</td>\n",
              "      <td>288.00</td>\n",
              "      <td>Consumer credit</td>\n",
              "      <td>-5</td>\n",
              "      <td>NaN</td>\n",
              "    </tr>\n",
              "  </tbody>\n",
              "</table>\n",
              "</div>\n",
              "      <button class=\"colab-df-convert\" onclick=\"convertToInteractive('df-8459baf8-6fe6-459d-8825-0d918cbd2eb0')\"\n",
              "              title=\"Convert this dataframe to an interactive table.\"\n",
              "              style=\"display:none;\">\n",
              "        \n",
              "  <svg xmlns=\"http://www.w3.org/2000/svg\" height=\"24px\"viewBox=\"0 0 24 24\"\n",
              "       width=\"24px\">\n",
              "    <path d=\"M0 0h24v24H0V0z\" fill=\"none\"/>\n",
              "    <path d=\"M18.56 5.44l.94 2.06.94-2.06 2.06-.94-2.06-.94-.94-2.06-.94 2.06-2.06.94zm-11 1L8.5 8.5l.94-2.06 2.06-.94-2.06-.94L8.5 2.5l-.94 2.06-2.06.94zm10 10l.94 2.06.94-2.06 2.06-.94-2.06-.94-.94-2.06-.94 2.06-2.06.94z\"/><path d=\"M17.41 7.96l-1.37-1.37c-.4-.4-.92-.59-1.43-.59-.52 0-1.04.2-1.43.59L10.3 9.45l-7.72 7.72c-.78.78-.78 2.05 0 2.83L4 21.41c.39.39.9.59 1.41.59.51 0 1.02-.2 1.41-.59l7.78-7.78 2.81-2.81c.8-.78.8-2.07 0-2.86zM5.41 20L4 18.59l7.72-7.72 1.47 1.35L5.41 20z\"/>\n",
              "  </svg>\n",
              "      </button>\n",
              "      \n",
              "  <style>\n",
              "    .colab-df-container {\n",
              "      display:flex;\n",
              "      flex-wrap:wrap;\n",
              "      gap: 12px;\n",
              "    }\n",
              "\n",
              "    .colab-df-convert {\n",
              "      background-color: #E8F0FE;\n",
              "      border: none;\n",
              "      border-radius: 50%;\n",
              "      cursor: pointer;\n",
              "      display: none;\n",
              "      fill: #1967D2;\n",
              "      height: 32px;\n",
              "      padding: 0 0 0 0;\n",
              "      width: 32px;\n",
              "    }\n",
              "\n",
              "    .colab-df-convert:hover {\n",
              "      background-color: #E2EBFA;\n",
              "      box-shadow: 0px 1px 2px rgba(60, 64, 67, 0.3), 0px 1px 3px 1px rgba(60, 64, 67, 0.15);\n",
              "      fill: #174EA6;\n",
              "    }\n",
              "\n",
              "    [theme=dark] .colab-df-convert {\n",
              "      background-color: #3B4455;\n",
              "      fill: #D2E3FC;\n",
              "    }\n",
              "\n",
              "    [theme=dark] .colab-df-convert:hover {\n",
              "      background-color: #434B5C;\n",
              "      box-shadow: 0px 1px 3px 1px rgba(0, 0, 0, 0.15);\n",
              "      filter: drop-shadow(0px 1px 2px rgba(0, 0, 0, 0.3));\n",
              "      fill: #FFFFFF;\n",
              "    }\n",
              "  </style>\n",
              "\n",
              "      <script>\n",
              "        const buttonEl =\n",
              "          document.querySelector('#df-8459baf8-6fe6-459d-8825-0d918cbd2eb0 button.colab-df-convert');\n",
              "        buttonEl.style.display =\n",
              "          google.colab.kernel.accessAllowed ? 'block' : 'none';\n",
              "\n",
              "        async function convertToInteractive(key) {\n",
              "          const element = document.querySelector('#df-8459baf8-6fe6-459d-8825-0d918cbd2eb0');\n",
              "          const dataTable =\n",
              "            await google.colab.kernel.invokeFunction('convertToInteractive',\n",
              "                                                     [key], {});\n",
              "          if (!dataTable) return;\n",
              "\n",
              "          const docLinkHtml = 'Like what you see? Visit the ' +\n",
              "            '<a target=\"_blank\" href=https://colab.research.google.com/notebooks/data_table.ipynb>data table notebook</a>'\n",
              "            + ' to learn more about interactive tables.';\n",
              "          element.innerHTML = '';\n",
              "          dataTable['output_type'] = 'display_data';\n",
              "          await google.colab.output.renderOutput(dataTable, element);\n",
              "          const docLink = document.createElement('div');\n",
              "          docLink.innerHTML = docLinkHtml;\n",
              "          element.appendChild(docLink);\n",
              "        }\n",
              "      </script>\n",
              "    </div>\n",
              "  </div>\n",
              "  "
            ]
          },
          "metadata": {},
          "execution_count": 27
        }
      ]
    },
    {
      "cell_type": "code",
      "source": [
        "bur_data['DAYS_CREDIT_UPDATE'].value_counts()"
      ],
      "metadata": {
        "colab": {
          "base_uri": "https://localhost:8080/"
        },
        "id": "FaRStuEjAjMG",
        "outputId": "1c273c99-8c16-4f85-f984-817d7239c192"
      },
      "execution_count": 42,
      "outputs": [
        {
          "output_type": "execute_result",
          "data": {
            "text/plain": [
              "-7        18503\n",
              "-8        18462\n",
              "-11       16975\n",
              "-15       16870\n",
              "-12       16827\n",
              "          ...  \n",
              "-41856        1\n",
              "-41940        1\n",
              "-2894         1\n",
              "-2913         1\n",
              "-2844         1\n",
              "Name: DAYS_CREDIT_UPDATE, Length: 2982, dtype: int64"
            ]
          },
          "metadata": {},
          "execution_count": 42
        }
      ]
    },
    {
      "cell_type": "code",
      "source": [
        "from pandas.core.dtypes.cast import Sized\n",
        "#bur_data1 = bur_data[bur_data['SK_ID_CURR']==282297]\n",
        "\n",
        "Summary_data = bur_data.groupby('SK_ID_CURR', as_index=False).agg(\n",
        "    BUR_CNT = (\"SK_ID_BUREAU\",\"count\")\n",
        "    , BUR_ACTIVE_CNT = (\"CREDIT_ACTIVE\", lambda x: sum(x=='Active'))\n",
        "    , BUR_SOLD_CNT = (\"CREDIT_ACTIVE\", lambda x: sum(x=='Sold'))\n",
        "    , BUR_BAD_DEPT_CNT = (\"CREDIT_ACTIVE\", lambda x: sum(x=='Bad debt'))\n",
        "    , BUR_CUR_USED = (\"CREDIT_CURRENCY\",\"nunique\")\n",
        "    , BUR_CRD_TYPES = (\"CREDIT_TYPE\",\"nunique\")\n",
        "    , BUR_CRD_TYPES_OTHR=(\"CREDIT_TYPE\", lambda x: sum(x.isin(['Consumer credit', 'Credit card'\n",
        "                                                  , 'Car loan', 'Mortgage']) == False))\n",
        "    , BUR_DAYS_CRD_VAR = (\"DAYS_CREDIT\", lambda x:max(x) - min(x))\n",
        "    , BUR_DAYS_CRD_MIN = (\"DAYS_CREDIT\", \"max\")\n",
        "    , BUR_OD_DAY_CNT = (\"CREDIT_DAY_OVERDUE\", lambda x:sum(x>0))\n",
        "    , BUR_OD_DAY_VAR = (\"CREDIT_DAY_OVERDUE\", lambda x:max(x) - min(x))\n",
        "    , BUR_OD_DAY_MIN = (\"CREDIT_DAY_OVERDUE\", \"min\")\n",
        "    , BUR_DAYS_CRD_ED_CNT1 = (\"DAYS_CREDIT_ENDDATE\", lambda x:sum(x>0))\n",
        "    , BUR_DAYS_CRD_ED_CNT2 = (\"DAYS_CREDIT_ENDDATE\", lambda x:sum(x<0))\n",
        "    , BUR_DAYS_ED_FACT_CNT = (\"DAYS_ENDDATE_FACT\", lambda x:sum(x>0))\n",
        "    , BUR_DAYS_ED_FACT_VAR = (\"DAYS_ENDDATE_FACT\", lambda x:max(x) - min(x))\n",
        "    , BUR_OD_AMT_MAX_CNT = (\"AMT_CREDIT_MAX_OVERDUE\", lambda x:sum(x>0))\n",
        "    , BUR_OD_AMT_MAX_VAR = (\"AMT_CREDIT_MAX_OVERDUE\", lambda x:max(x) - min(x))\n",
        "    , BUR_CRD_PRO_CNT = (\"CNT_CREDIT_PROLONG\", lambda x:sum(x>0))\n",
        "    , BUR_CRD_PRO_VAR = (\"CNT_CREDIT_PROLONG\", lambda x:max(x) - min(x))\n",
        "    , BUR_CRD_AMT_VAR = (\"AMT_CREDIT_SUM\", lambda x:max(x) - min(x))\n",
        "    , BUR_CRD_DBT_CNT = (\"AMT_CREDIT_SUM_DEBT\", lambda x:sum(x>0))\n",
        "    , BUR_CRD_DBT_MAX = (\"AMT_CREDIT_SUM_DEBT\", \"max\")\n",
        "    , BUR_CRD_LMT_CNT = (\"AMT_CREDIT_SUM_LIMIT\", lambda x:sum(x>0))\n",
        "    , BUR_CRD_LMT_MAX = (\"AMT_CREDIT_SUM_LIMIT\", \"max\")\n",
        "    , BUR_OD_AMT_SUM_CNT = (\"AMT_CREDIT_SUM_OVERDUE\", lambda x:sum(x>0))\n",
        "    , BUR_OD_AMT_SUM_VAR = (\"AMT_CREDIT_SUM_OVERDUE\", lambda x:max(x) - min(x))\n",
        "    , BUR_DAYS_CRD_UPDT_VAR = (\"DAYS_CREDIT_UPDATE\", lambda x:max(x) - min(x))\n",
        "    , BUR_DAYS_CRD_UPDT_MIN = (\"DAYS_CREDIT_UPDATE\", \"max\")\n",
        "    , BUR_ANNUITY_VAR = (\"AMT_CREDIT_SUM_DEBT\", lambda x:max(x) - min(x))\n",
        ")\n",
        "Summary_data.shape"
      ],
      "metadata": {
        "colab": {
          "base_uri": "https://localhost:8080/"
        },
        "id": "UVa-i6SKBoL3",
        "outputId": "92dad5e4-0df1-46b5-caff-5cafdfa860b4"
      },
      "execution_count": 59,
      "outputs": [
        {
          "output_type": "execute_result",
          "data": {
            "text/plain": [
              "(305811, 31)"
            ]
          },
          "metadata": {},
          "execution_count": 59
        }
      ]
    },
    {
      "cell_type": "code",
      "source": [
        "Summary_data[Summary_data['BUR_OD_AMT_SUM_VAR']>0][['BUR_CRD_AMT_VAR','BUR_CRD_DBT_MAX','BUR_CRD_LMT_MAX','BUR_OD_AMT_SUM_VAR','BUR_OD_AMT_MAX_VAR']]"
      ],
      "metadata": {
        "colab": {
          "base_uri": "https://localhost:8080/",
          "height": 237
        },
        "id": "9J7yLQ3RIgKN",
        "outputId": "8c5b97ef-09a9-4009-de8f-c7a49a16bab0"
      },
      "execution_count": 54,
      "outputs": [
        {
          "output_type": "execute_result",
          "data": {
            "text/plain": [
              "     SK_ID_CURR  BUR_CNT  BUR_ACTIVE_CNT  BUR_SOLD_CNT  BUR_BAD_DEPT_CNT  \\\n",
              "103      100120        2               2             0                 0   \n",
              "139      100162       11               4             1                 0   \n",
              "298      100341        5               2             0                 0   \n",
              "\n",
              "     BUR_CUR_USED  BUR_CRD_TYPES  BUR_CRD_TYPES_OTHR  BUR_DAYS_CRD_VAR  \\\n",
              "103             1              2                   0               190   \n",
              "139             1              2                   0              2559   \n",
              "298             1              2                   0              1787   \n",
              "\n",
              "     BUR_DAYS_CRD_MIN  ...  BUR_CRD_DBT_CNT  BUR_CRD_DBT_VAR  BUR_CRD_LMT_CNT  \\\n",
              "103              -420  ...                1       108,837.00                0   \n",
              "139              -313  ...                2       850,653.00                0   \n",
              "298              -330  ...                1       204,894.00                0   \n",
              "\n",
              "     BUR_CRD_LMT_VAR  BUR_OD_AMT_SUM_CNT  BUR_OD_AMT_SUM_VAR  \\\n",
              "103             0.00                   1              166.50   \n",
              "139             0.00                   1               13.50   \n",
              "298             0.00                   1              459.00   \n",
              "\n",
              "     BUR_DAYS_CRD_UPDT_VAR  BUR_DAYS_CRD_UPDT_MIN  BUR_ANNUITY_CNT  \\\n",
              "103                      0                    -72                1   \n",
              "139                   2613                    -15                2   \n",
              "298                   1900                    -33                1   \n",
              "\n",
              "     BUR_ANNUITY_VAR  \n",
              "103       108,837.00  \n",
              "139       850,653.00  \n",
              "298       204,894.00  \n",
              "\n",
              "[3 rows x 31 columns]"
            ],
            "text/html": [
              "\n",
              "  <div id=\"df-69f18243-6cfb-4d2e-bba8-37da761d4b3e\">\n",
              "    <div class=\"colab-df-container\">\n",
              "      <div>\n",
              "<style scoped>\n",
              "    .dataframe tbody tr th:only-of-type {\n",
              "        vertical-align: middle;\n",
              "    }\n",
              "\n",
              "    .dataframe tbody tr th {\n",
              "        vertical-align: top;\n",
              "    }\n",
              "\n",
              "    .dataframe thead th {\n",
              "        text-align: right;\n",
              "    }\n",
              "</style>\n",
              "<table border=\"1\" class=\"dataframe\">\n",
              "  <thead>\n",
              "    <tr style=\"text-align: right;\">\n",
              "      <th></th>\n",
              "      <th>SK_ID_CURR</th>\n",
              "      <th>BUR_CNT</th>\n",
              "      <th>BUR_ACTIVE_CNT</th>\n",
              "      <th>BUR_SOLD_CNT</th>\n",
              "      <th>BUR_BAD_DEPT_CNT</th>\n",
              "      <th>BUR_CUR_USED</th>\n",
              "      <th>BUR_CRD_TYPES</th>\n",
              "      <th>BUR_CRD_TYPES_OTHR</th>\n",
              "      <th>BUR_DAYS_CRD_VAR</th>\n",
              "      <th>BUR_DAYS_CRD_MIN</th>\n",
              "      <th>...</th>\n",
              "      <th>BUR_CRD_DBT_CNT</th>\n",
              "      <th>BUR_CRD_DBT_VAR</th>\n",
              "      <th>BUR_CRD_LMT_CNT</th>\n",
              "      <th>BUR_CRD_LMT_VAR</th>\n",
              "      <th>BUR_OD_AMT_SUM_CNT</th>\n",
              "      <th>BUR_OD_AMT_SUM_VAR</th>\n",
              "      <th>BUR_DAYS_CRD_UPDT_VAR</th>\n",
              "      <th>BUR_DAYS_CRD_UPDT_MIN</th>\n",
              "      <th>BUR_ANNUITY_CNT</th>\n",
              "      <th>BUR_ANNUITY_VAR</th>\n",
              "    </tr>\n",
              "  </thead>\n",
              "  <tbody>\n",
              "    <tr>\n",
              "      <th>103</th>\n",
              "      <td>100120</td>\n",
              "      <td>2</td>\n",
              "      <td>2</td>\n",
              "      <td>0</td>\n",
              "      <td>0</td>\n",
              "      <td>1</td>\n",
              "      <td>2</td>\n",
              "      <td>0</td>\n",
              "      <td>190</td>\n",
              "      <td>-420</td>\n",
              "      <td>...</td>\n",
              "      <td>1</td>\n",
              "      <td>108,837.00</td>\n",
              "      <td>0</td>\n",
              "      <td>0.00</td>\n",
              "      <td>1</td>\n",
              "      <td>166.50</td>\n",
              "      <td>0</td>\n",
              "      <td>-72</td>\n",
              "      <td>1</td>\n",
              "      <td>108,837.00</td>\n",
              "    </tr>\n",
              "    <tr>\n",
              "      <th>139</th>\n",
              "      <td>100162</td>\n",
              "      <td>11</td>\n",
              "      <td>4</td>\n",
              "      <td>1</td>\n",
              "      <td>0</td>\n",
              "      <td>1</td>\n",
              "      <td>2</td>\n",
              "      <td>0</td>\n",
              "      <td>2559</td>\n",
              "      <td>-313</td>\n",
              "      <td>...</td>\n",
              "      <td>2</td>\n",
              "      <td>850,653.00</td>\n",
              "      <td>0</td>\n",
              "      <td>0.00</td>\n",
              "      <td>1</td>\n",
              "      <td>13.50</td>\n",
              "      <td>2613</td>\n",
              "      <td>-15</td>\n",
              "      <td>2</td>\n",
              "      <td>850,653.00</td>\n",
              "    </tr>\n",
              "    <tr>\n",
              "      <th>298</th>\n",
              "      <td>100341</td>\n",
              "      <td>5</td>\n",
              "      <td>2</td>\n",
              "      <td>0</td>\n",
              "      <td>0</td>\n",
              "      <td>1</td>\n",
              "      <td>2</td>\n",
              "      <td>0</td>\n",
              "      <td>1787</td>\n",
              "      <td>-330</td>\n",
              "      <td>...</td>\n",
              "      <td>1</td>\n",
              "      <td>204,894.00</td>\n",
              "      <td>0</td>\n",
              "      <td>0.00</td>\n",
              "      <td>1</td>\n",
              "      <td>459.00</td>\n",
              "      <td>1900</td>\n",
              "      <td>-33</td>\n",
              "      <td>1</td>\n",
              "      <td>204,894.00</td>\n",
              "    </tr>\n",
              "  </tbody>\n",
              "</table>\n",
              "<p>3 rows × 31 columns</p>\n",
              "</div>\n",
              "      <button class=\"colab-df-convert\" onclick=\"convertToInteractive('df-69f18243-6cfb-4d2e-bba8-37da761d4b3e')\"\n",
              "              title=\"Convert this dataframe to an interactive table.\"\n",
              "              style=\"display:none;\">\n",
              "        \n",
              "  <svg xmlns=\"http://www.w3.org/2000/svg\" height=\"24px\"viewBox=\"0 0 24 24\"\n",
              "       width=\"24px\">\n",
              "    <path d=\"M0 0h24v24H0V0z\" fill=\"none\"/>\n",
              "    <path d=\"M18.56 5.44l.94 2.06.94-2.06 2.06-.94-2.06-.94-.94-2.06-.94 2.06-2.06.94zm-11 1L8.5 8.5l.94-2.06 2.06-.94-2.06-.94L8.5 2.5l-.94 2.06-2.06.94zm10 10l.94 2.06.94-2.06 2.06-.94-2.06-.94-.94-2.06-.94 2.06-2.06.94z\"/><path d=\"M17.41 7.96l-1.37-1.37c-.4-.4-.92-.59-1.43-.59-.52 0-1.04.2-1.43.59L10.3 9.45l-7.72 7.72c-.78.78-.78 2.05 0 2.83L4 21.41c.39.39.9.59 1.41.59.51 0 1.02-.2 1.41-.59l7.78-7.78 2.81-2.81c.8-.78.8-2.07 0-2.86zM5.41 20L4 18.59l7.72-7.72 1.47 1.35L5.41 20z\"/>\n",
              "  </svg>\n",
              "      </button>\n",
              "      \n",
              "  <style>\n",
              "    .colab-df-container {\n",
              "      display:flex;\n",
              "      flex-wrap:wrap;\n",
              "      gap: 12px;\n",
              "    }\n",
              "\n",
              "    .colab-df-convert {\n",
              "      background-color: #E8F0FE;\n",
              "      border: none;\n",
              "      border-radius: 50%;\n",
              "      cursor: pointer;\n",
              "      display: none;\n",
              "      fill: #1967D2;\n",
              "      height: 32px;\n",
              "      padding: 0 0 0 0;\n",
              "      width: 32px;\n",
              "    }\n",
              "\n",
              "    .colab-df-convert:hover {\n",
              "      background-color: #E2EBFA;\n",
              "      box-shadow: 0px 1px 2px rgba(60, 64, 67, 0.3), 0px 1px 3px 1px rgba(60, 64, 67, 0.15);\n",
              "      fill: #174EA6;\n",
              "    }\n",
              "\n",
              "    [theme=dark] .colab-df-convert {\n",
              "      background-color: #3B4455;\n",
              "      fill: #D2E3FC;\n",
              "    }\n",
              "\n",
              "    [theme=dark] .colab-df-convert:hover {\n",
              "      background-color: #434B5C;\n",
              "      box-shadow: 0px 1px 3px 1px rgba(0, 0, 0, 0.15);\n",
              "      filter: drop-shadow(0px 1px 2px rgba(0, 0, 0, 0.3));\n",
              "      fill: #FFFFFF;\n",
              "    }\n",
              "  </style>\n",
              "\n",
              "      <script>\n",
              "        const buttonEl =\n",
              "          document.querySelector('#df-69f18243-6cfb-4d2e-bba8-37da761d4b3e button.colab-df-convert');\n",
              "        buttonEl.style.display =\n",
              "          google.colab.kernel.accessAllowed ? 'block' : 'none';\n",
              "\n",
              "        async function convertToInteractive(key) {\n",
              "          const element = document.querySelector('#df-69f18243-6cfb-4d2e-bba8-37da761d4b3e');\n",
              "          const dataTable =\n",
              "            await google.colab.kernel.invokeFunction('convertToInteractive',\n",
              "                                                     [key], {});\n",
              "          if (!dataTable) return;\n",
              "\n",
              "          const docLinkHtml = 'Like what you see? Visit the ' +\n",
              "            '<a target=\"_blank\" href=https://colab.research.google.com/notebooks/data_table.ipynb>data table notebook</a>'\n",
              "            + ' to learn more about interactive tables.';\n",
              "          element.innerHTML = '';\n",
              "          dataTable['output_type'] = 'display_data';\n",
              "          await google.colab.output.renderOutput(dataTable, element);\n",
              "          const docLink = document.createElement('div');\n",
              "          docLink.innerHTML = docLinkHtml;\n",
              "          element.appendChild(docLink);\n",
              "        }\n",
              "      </script>\n",
              "    </div>\n",
              "  </div>\n",
              "  "
            ]
          },
          "metadata": {},
          "execution_count": 54
        }
      ]
    },
    {
      "cell_type": "code",
      "source": [],
      "metadata": {
        "id": "d_PhkYrxS4y3"
      },
      "execution_count": null,
      "outputs": []
    },
    {
      "cell_type": "code",
      "source": [
        "combined_data=app_data[['SK_ID_CURR','TARGET']].join(Summary_data,on='SK_ID_CURR',lsuffix='_APP', rsuffix='_BUR')\n",
        "combined_data.shape"
      ],
      "metadata": {
        "colab": {
          "base_uri": "https://localhost:8080/"
        },
        "id": "7BWgE7ctMC7S",
        "outputId": "618b4b94-641e-4734-fc50-196060198ca0"
      },
      "execution_count": 60,
      "outputs": [
        {
          "output_type": "execute_result",
          "data": {
            "text/plain": [
              "(307511, 33)"
            ]
          },
          "metadata": {},
          "execution_count": 60
        }
      ]
    },
    {
      "cell_type": "code",
      "source": [
        "combined_data.info(verbose=True, show_counts=True)"
      ],
      "metadata": {
        "colab": {
          "base_uri": "https://localhost:8080/"
        },
        "id": "YRdWQ48WQe9z",
        "outputId": "c35c3ed0-33dc-4a68-afa1-7a1568807fe9"
      },
      "execution_count": 61,
      "outputs": [
        {
          "output_type": "stream",
          "name": "stdout",
          "text": [
            "<class 'pandas.core.frame.DataFrame'>\n",
            "RangeIndex: 307511 entries, 0 to 307510\n",
            "Data columns (total 33 columns):\n",
            " #   Column                 Non-Null Count   Dtype  \n",
            "---  ------                 --------------   -----  \n",
            " 0   SK_ID_CURR_APP         307511 non-null  int64  \n",
            " 1   TARGET                 307511 non-null  int64  \n",
            " 2   SK_ID_CURR_BUR         177604 non-null  float64\n",
            " 3   BUR_CNT                177604 non-null  float64\n",
            " 4   BUR_ACTIVE_CNT         177604 non-null  float64\n",
            " 5   BUR_SOLD_CNT           177604 non-null  float64\n",
            " 6   BUR_BAD_DEPT_CNT       177604 non-null  float64\n",
            " 7   BUR_CUR_USED           177604 non-null  float64\n",
            " 8   BUR_CRD_TYPES          177604 non-null  float64\n",
            " 9   BUR_CRD_TYPES_OTHR     177604 non-null  float64\n",
            " 10  BUR_DAYS_CRD_VAR       177604 non-null  float64\n",
            " 11  BUR_DAYS_CRD_MIN       177604 non-null  float64\n",
            " 12  BUR_OD_DAY_CNT         177604 non-null  float64\n",
            " 13  BUR_OD_DAY_VAR         177604 non-null  float64\n",
            " 14  BUR_OD_DAY_MIN         177604 non-null  float64\n",
            " 15  BUR_DAYS_CRD_ED_CNT1   177604 non-null  float64\n",
            " 16  BUR_DAYS_CRD_ED_CNT2   177604 non-null  float64\n",
            " 17  BUR_DAYS_ED_FACT_CNT   177604 non-null  float64\n",
            " 18  BUR_DAYS_ED_FACT_VAR   120733 non-null  float64\n",
            " 19  BUR_OD_AMT_MAX_CNT     177604 non-null  float64\n",
            " 20  BUR_OD_AMT_MAX_VAR     39746 non-null   float64\n",
            " 21  BUR_CRD_PRO_CNT        177604 non-null  float64\n",
            " 22  BUR_CRD_PRO_VAR        177604 non-null  float64\n",
            " 23  BUR_CRD_AMT_VAR        177603 non-null  float64\n",
            " 24  BUR_CRD_DBT_CNT        177604 non-null  float64\n",
            " 25  BUR_CRD_DBT_MAX        172710 non-null  float64\n",
            " 26  BUR_CRD_LMT_CNT        177604 non-null  float64\n",
            " 27  BUR_CRD_LMT_MAX        163051 non-null  float64\n",
            " 28  BUR_OD_AMT_SUM_CNT     177604 non-null  float64\n",
            " 29  BUR_OD_AMT_SUM_VAR     177604 non-null  float64\n",
            " 30  BUR_DAYS_CRD_UPDT_VAR  177604 non-null  float64\n",
            " 31  BUR_DAYS_CRD_UPDT_MIN  177604 non-null  float64\n",
            " 32  BUR_ANNUITY_VAR        163089 non-null  float64\n",
            "dtypes: float64(31), int64(2)\n",
            "memory usage: 77.4 MB\n"
          ]
        }
      ]
    },
    {
      "cell_type": "code",
      "source": [
        "# correlation with Target - target value\n",
        "corr_features = pd.DataFrame()\n",
        "corr_features['FI'] = combined_data.corr()['TARGET']\n",
        "corr_features['FI_MOD']  = corr_features['FI'].abs()\n",
        "print(corr_features.sort_values(by='FI_MOD',ascending=False).head(50)) \n",
        "#corr_features.style.background_gradient(cmap='viridis')"
      ],
      "metadata": {
        "colab": {
          "base_uri": "https://localhost:8080/"
        },
        "id": "ISJ6hERGQx1q",
        "outputId": "f88cdb34-040a-4b2e-bdf9-c69a62143c4a"
      },
      "execution_count": 62,
      "outputs": [
        {
          "output_type": "stream",
          "name": "stdout",
          "text": [
            "                         FI  FI_MOD\n",
            "TARGET                 1.00    1.00\n",
            "BUR_DAYS_CRD_UPDT_VAR -0.01    0.01\n",
            "BUR_DAYS_CRD_VAR      -0.01    0.01\n",
            "BUR_DAYS_CRD_MIN      -0.01    0.01\n",
            "BUR_DAYS_CRD_ED_CNT1  -0.01    0.01\n",
            "BUR_DAYS_CRD_UPDT_MIN -0.01    0.01\n",
            "BUR_CNT               -0.01    0.01\n",
            "BUR_ACTIVE_CNT        -0.01    0.01\n",
            "BUR_CRD_LMT_CNT       -0.01    0.01\n",
            "BUR_CRD_AMT_VAR       -0.01    0.01\n",
            "BUR_CRD_DBT_MAX       -0.01    0.01\n",
            "BUR_ANNUITY_VAR       -0.00    0.00\n",
            "BUR_DAYS_ED_FACT_VAR  -0.00    0.00\n",
            "BUR_CRD_DBT_CNT       -0.00    0.00\n",
            "BUR_CRD_TYPES         -0.00    0.00\n",
            "BUR_OD_DAY_CNT         0.00    0.00\n",
            "BUR_DAYS_CRD_ED_CNT2  -0.00    0.00\n",
            "BUR_SOLD_CNT          -0.00    0.00\n",
            "BUR_OD_AMT_MAX_CNT    -0.00    0.00\n",
            "BUR_OD_AMT_SUM_VAR    -0.00    0.00\n",
            "BUR_OD_AMT_SUM_CNT     0.00    0.00\n",
            "BUR_OD_AMT_MAX_VAR    -0.00    0.00\n",
            "BUR_CRD_PRO_VAR        0.00    0.00\n",
            "BUR_OD_DAY_VAR         0.00    0.00\n",
            "BUR_CRD_LMT_MAX       -0.00    0.00\n",
            "SK_ID_CURR_APP        -0.00    0.00\n",
            "BUR_OD_DAY_MIN        -0.00    0.00\n",
            "BUR_CRD_PRO_CNT        0.00    0.00\n",
            "SK_ID_CURR_BUR         0.00    0.00\n",
            "BUR_CUR_USED          -0.00    0.00\n",
            "BUR_CRD_TYPES_OTHR    -0.00    0.00\n",
            "BUR_BAD_DEPT_CNT      -0.00    0.00\n",
            "BUR_DAYS_ED_FACT_CNT    NaN     NaN\n"
          ]
        }
      ]
    }
  ]
}