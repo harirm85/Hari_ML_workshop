{
  "nbformat": 4,
  "nbformat_minor": 0,
  "metadata": {
    "colab": {
      "provenance": [],
      "authorship_tag": "ABX9TyPtwXZxZUAXsUvYq/CeVzcl",
      "include_colab_link": true
    },
    "kernelspec": {
      "name": "python3",
      "display_name": "Python 3"
    },
    "language_info": {
      "name": "python"
    }
  },
  "cells": [
    {
      "cell_type": "markdown",
      "metadata": {
        "id": "view-in-github",
        "colab_type": "text"
      },
      "source": [
        "<a href=\"https://colab.research.google.com/github/harirm85/Hari_ML_workshop/blob/main/Home_Credit_Default_Risk.ipynb\" target=\"_parent\"><img src=\"https://colab.research.google.com/assets/colab-badge.svg\" alt=\"Open In Colab\"/></a>"
      ]
    },
    {
      "cell_type": "markdown",
      "source": [
        "# Mount drive and connect to Kaggle"
      ],
      "metadata": {
        "id": "anXRteGtQJKj"
      }
    },
    {
      "cell_type": "code",
      "execution_count": 1,
      "metadata": {
        "colab": {
          "base_uri": "https://localhost:8080/"
        },
        "id": "34baa0MQQH92",
        "outputId": "82b17f19-9424-4958-d44d-bb2a7f0afaa6"
      },
      "outputs": [
        {
          "output_type": "stream",
          "name": "stdout",
          "text": [
            "Mounted at /content/drive\n"
          ]
        }
      ],
      "source": [
        "# Connect to Google Drive\n",
        "from google.colab import drive\n",
        "drive.mount('/content/drive')"
      ]
    },
    {
      "cell_type": "code",
      "source": [
        "# Copy the Jason file and set security\n",
        "!mkdir -p ~/.kaggle\n",
        "!cp '/content/drive/MyDrive/Kaggle/kaggle.json' ~/.kaggle/kaggle.json\n",
        "!chmod 600 ~/.kaggle/kaggle.json"
      ],
      "metadata": {
        "id": "q8dcwPbiReEf"
      },
      "execution_count": 2,
      "outputs": []
    },
    {
      "cell_type": "code",
      "source": [
        "# # Upload Jason file from system manually \n",
        "# from google.colab import files\n",
        "# files.upload()\n",
        "# # Copy the Jason file and set security\n",
        "# !mkdir -p ~/.kaggle\n",
        "# !cp kaggle.json ~/.kaggle/\n",
        "# !chmod 600 ~/.kaggle/kaggle.json"
      ],
      "metadata": {
        "id": "o_gBD0oJYuJG"
      },
      "execution_count": null,
      "outputs": []
    },
    {
      "cell_type": "code",
      "source": [
        "#Download data\n",
        "!kaggle competitions download -c home-credit-default-risk"
      ],
      "metadata": {
        "colab": {
          "base_uri": "https://localhost:8080/"
        },
        "id": "j4G2GdluScNw",
        "outputId": "c83b657d-3958-4ec5-b5bb-f0c66b3531f3"
      },
      "execution_count": 3,
      "outputs": [
        {
          "output_type": "stream",
          "name": "stdout",
          "text": [
            "Downloading home-credit-default-risk.zip to /content\n",
            "100% 688M/688M [00:08<00:00, 145MB/s]\n",
            "100% 688M/688M [00:08<00:00, 84.5MB/s]\n"
          ]
        }
      ]
    },
    {
      "cell_type": "code",
      "source": [
        "import zipfile\n",
        "\n",
        "# Specify the path to the downloaded zip file\n",
        "zip_path = \"/content/home-credit-default-risk.zip\"\n",
        "\n",
        "# Specify the directory to extract the files to\n",
        "extract_path = \"/content/home-credit-default-risk\"\n",
        "\n",
        "# Extract the zip file\n",
        "with zipfile.ZipFile(zip_path, 'r') as zip_ref:\n",
        "    zip_ref.extractall(extract_path)"
      ],
      "metadata": {
        "id": "GqZwexj_Tjkb"
      },
      "execution_count": 4,
      "outputs": []
    },
    {
      "cell_type": "code",
      "source": [
        "# import shutil\n",
        "\n",
        "# # Specify the path to the directory where you want to save the dataset\n",
        "# save_path = \"/content/drive/MyDrive/Kaggle/home-credit-default-risk\"\n",
        "\n",
        "# # Create a copy of the extracted dataset in the save path\n",
        "# shutil.copytree(extract_path, save_path)"
      ],
      "metadata": {
        "id": "5CpLQlz2bKlU"
      },
      "execution_count": null,
      "outputs": []
    },
    {
      "cell_type": "markdown",
      "source": [
        "# Import libraries"
      ],
      "metadata": {
        "id": "lPVhIWykhQCe"
      }
    },
    {
      "cell_type": "code",
      "source": [
        "import numpy as np\n",
        "import pandas as pd\n",
        "import matplotlib.pyplot as plt\n",
        "import seaborn as sns\n",
        "\n",
        "pd.options.display.float_format = '{:,.2f}'.format\n"
      ],
      "metadata": {
        "id": "UDpqZjYIFMkZ"
      },
      "execution_count": 7,
      "outputs": []
    },
    {
      "cell_type": "markdown",
      "source": [
        "# Verify data"
      ],
      "metadata": {
        "id": "5dhI881Fahfx"
      }
    },
    {
      "cell_type": "code",
      "source": [
        "app_data = pd.read_csv('/content/home-credit-default-risk/application_train.csv')\n",
        "print(app_data.columns)"
      ],
      "metadata": {
        "id": "0WVxSwXIGo8c",
        "outputId": "81042643-2666-4e5c-c408-4f54525aa5a8",
        "colab": {
          "base_uri": "https://localhost:8080/"
        }
      },
      "execution_count": 12,
      "outputs": [
        {
          "output_type": "stream",
          "name": "stdout",
          "text": [
            "Index(['SK_ID_CURR', 'TARGET', 'NAME_CONTRACT_TYPE', 'CODE_GENDER',\n",
            "       'FLAG_OWN_CAR', 'FLAG_OWN_REALTY', 'CNT_CHILDREN', 'AMT_INCOME_TOTAL',\n",
            "       'AMT_CREDIT', 'AMT_ANNUITY',\n",
            "       ...\n",
            "       'FLAG_DOCUMENT_18', 'FLAG_DOCUMENT_19', 'FLAG_DOCUMENT_20',\n",
            "       'FLAG_DOCUMENT_21', 'AMT_REQ_CREDIT_BUREAU_HOUR',\n",
            "       'AMT_REQ_CREDIT_BUREAU_DAY', 'AMT_REQ_CREDIT_BUREAU_WEEK',\n",
            "       'AMT_REQ_CREDIT_BUREAU_MON', 'AMT_REQ_CREDIT_BUREAU_QRT',\n",
            "       'AMT_REQ_CREDIT_BUREAU_YEAR'],\n",
            "      dtype='object', length=122)\n"
          ]
        }
      ]
    },
    {
      "cell_type": "code",
      "source": [
        "app_data.info()"
      ],
      "metadata": {
        "id": "f-NyrwcQKpID",
        "outputId": "e958e04d-7f87-4b4c-dc14-ae6b06f4915e",
        "colab": {
          "base_uri": "https://localhost:8080/"
        }
      },
      "execution_count": 13,
      "outputs": [
        {
          "output_type": "stream",
          "name": "stdout",
          "text": [
            "<class 'pandas.core.frame.DataFrame'>\n",
            "RangeIndex: 307511 entries, 0 to 307510\n",
            "Columns: 122 entries, SK_ID_CURR to AMT_REQ_CREDIT_BUREAU_YEAR\n",
            "dtypes: float64(65), int64(41), object(16)\n",
            "memory usage: 286.2+ MB\n"
          ]
        }
      ]
    },
    {
      "cell_type": "markdown",
      "source": [
        "#Shape Data"
      ],
      "metadata": {
        "id": "266tGGOEJZj8"
      }
    },
    {
      "cell_type": "code",
      "source": [
        "label_col = 'TARGET'\n",
        "\n",
        "feature_columns = app_data.columns\n",
        "## TODO : drop 'ID' and 'default' columns\n",
        "feature_columns = feature_columns.drop (['SK_ID_CURR', 'TARGET']) # We remove Weight and Height as we have computed BMI\n",
        "print (feature_columns)"
      ],
      "metadata": {
        "id": "jUSUGCHnJc2S",
        "outputId": "b2f61e2d-4402-4f70-edba-2f6c3cbe7573",
        "colab": {
          "base_uri": "https://localhost:8080/"
        }
      },
      "execution_count": 14,
      "outputs": [
        {
          "output_type": "stream",
          "name": "stdout",
          "text": [
            "Index(['NAME_CONTRACT_TYPE', 'CODE_GENDER', 'FLAG_OWN_CAR', 'FLAG_OWN_REALTY',\n",
            "       'CNT_CHILDREN', 'AMT_INCOME_TOTAL', 'AMT_CREDIT', 'AMT_ANNUITY',\n",
            "       'AMT_GOODS_PRICE', 'NAME_TYPE_SUITE',\n",
            "       ...\n",
            "       'FLAG_DOCUMENT_18', 'FLAG_DOCUMENT_19', 'FLAG_DOCUMENT_20',\n",
            "       'FLAG_DOCUMENT_21', 'AMT_REQ_CREDIT_BUREAU_HOUR',\n",
            "       'AMT_REQ_CREDIT_BUREAU_DAY', 'AMT_REQ_CREDIT_BUREAU_WEEK',\n",
            "       'AMT_REQ_CREDIT_BUREAU_MON', 'AMT_REQ_CREDIT_BUREAU_QRT',\n",
            "       'AMT_REQ_CREDIT_BUREAU_YEAR'],\n",
            "      dtype='object', length=120)\n"
          ]
        }
      ]
    },
    {
      "cell_type": "code",
      "source": [
        "X = app_data[feature_columns]\n",
        "y = app_data[[label_col]]\n",
        "\n",
        "print (X.shape)\n",
        "print (y.shape)"
      ],
      "metadata": {
        "id": "HqHIjLtdMTkW",
        "outputId": "1160906a-8b80-4003-d2fb-8da6304467b4",
        "colab": {
          "base_uri": "https://localhost:8080/"
        }
      },
      "execution_count": 15,
      "outputs": [
        {
          "output_type": "stream",
          "name": "stdout",
          "text": [
            "(307511, 120)\n",
            "(307511, 1)\n"
          ]
        }
      ]
    }
  ]
}